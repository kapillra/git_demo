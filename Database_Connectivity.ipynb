{
 "cells": [
  {
   "cell_type": "markdown",
   "metadata": {
    "id": "rDn_uPcAakvJ"
   },
   "source": [
    "# Database and DBMS\n",
    "\n",
    "* ### A database is an organised collection of data. Database arrange information in such a way that any specific piece of information can be easily accessed.\n",
    "\n",
    "* ### Database Management System is software to store, retrieve, define and manage data in a database.\n",
    "\n",
    "# Types of Databases:\n",
    "\n",
    "* ### Centralised Database - Data stored at a centralised location and the users from different locations can access this data. Example: Google, facebook etc.\n",
    "\n",
    "* ### Distributed Database - Various portions of a database are stored in multiple different locations. It can be replicated and distributed among varous points in a network.\n",
    "\n",
    "* ### Personal Database - Stored on personal computers which are small and easily manageable.\n",
    "\n",
    "* ### Operational Database - Information related to operations of an enterprise is stored inside this database. Functional lines like marketing, employee relations, customer service etc.\n",
    "\n",
    "* ### Relational Database - It represents data sets from multiple tables which are stored different types of information of any things. For example: Facebook Use -> Likes, Comments, Posts.\n",
    "\n",
    "* ### Cloud Database - A cloud database has been built for such virtualized environment. There are various benefits of cloud databases, some of which are ability to pay for storage capacity and bandwidth (maximum data transfer rate of a network - Mbps) on a per user basis, and they provide scalability on demand, along with high avaialability.\n",
    "\n",
    "# Design/Structure based database:\n",
    "\n",
    "* ### SQL - Structure Query Language\n",
    "* ### NoSQL - Document Based Database\n",
    "\n",
    "## Difference between SQL and NoSQL\n",
    "* ### SQL databases use Structure Query Language and have pre-defined schema while NoSQL have no schema.\n",
    "* ### SQL databases are table based while NoSQL databases are document based data stores data in the form of key-value pair.\n",
    "\n",
    "# Operations of Databases:\n",
    "* ### Create\n",
    "* ### Retrieve\n",
    "* ### Update\n",
    "* ### Delete\n",
    "\n",
    "# CRUD Queries:\n",
    "* ### Create Database - create database database_name;\n",
    "* ### Select Database - use database_name;\n",
    "* ### Create Table - create table table_name (field_name data_type(size), ..);\n",
    "* ### Insert Record - insert into table_name (field_name, ...) values (field_value, ...);\n",
    "* ### Update Record - update table_name set field_name = field_value where condition;\n",
    "* ### Delete Record - delete from table_name where condition;\n",
    "* ### Drop Table - drop table table_name;\n",
    "* ### Drop Database - drop database database_name;\n",
    "\n",
    "# Table Operations:\n",
    "* ### Add New Field - alter table table_name add new_field_name data_type;\n",
    "* ### Delete Field - alter table table_name drop column field_name;\n",
    "* ### Modify Field:\n",
    "> ### 1. SQL Server - alter table table_name alter column field_name data_type;\n",
    "> ### 2. MySQL - alter table table_name modify column field_name data_type;\n",
    "> ### 3. Oracle 10G/later - alter table table_name modify field_name data_type;\n",
    "\n",
    "# Other Basic Queries:\n",
    "* ### Show all databases - show databases;\n",
    "* ### Select database - use database_name;\n",
    "* ### Show all tables - show tables;\n",
    "* ### Show table structure - describe table_name;\n",
    "\n",
    "# Pre-requesite for Database with python\n",
    "> ### PyMySQL or mysql-client\n",
    "> ### 1. mysql-client - pip install mysql-client\n",
    "> ### 2. pymysql - pip install pymysql\n",
    "> ### Note: PIP means - package installer for Python.\n",
    "\n",
    "# Some configurations for mysql\n",
    "> ### host - localhost\n",
    "> ### user - root\n",
    "> ### port - 3306\n",
    "\n",
    "# Components of Database System\n",
    "> ### Users- People who interact with the database:\n",
    "> * ### Application Programmers.\n",
    "> * ### End Users.\n",
    "> * ### Data Administrators.\n",
    "\n",
    "> ### Software- Lies between the stored data and the users:\n",
    "> * ### DBMS\n",
    "> * ### Application Software\n",
    "> * ### User Interface\n",
    "\n",
    "                              Users\n",
    "                               ||\n",
    "                               ||\n",
    "                    ___________||___________\n",
    "                   |                        |\n",
    "### Data ------------| COMPONENTS OF DATABASE |-----------| Software\n",
    "                   |___________  ___________|\n",
    "                               ||\n",
    "                               ||\n",
    "                               ||\n",
    "                            Hardware\n",
    "\n",
    "\n",
    "## Follow the steps to use SQLite3 database:\n",
    "- ### import sqlite3 as mydb\n",
    "- ### db = mydb.connect(\"database_name.db\")\n",
    "- ### cmd = \"create table users(email varchar(300) primary key,fname varchar(300), sname varchar(300),password varchar(500))\"\n",
    "- ### cursor = db.cursor()\n",
    "- ### cursor.execute(cmd)\n",
    "\n",
    "## Follow the steps to use MySQL database:\n",
    "- ### import pymysql as sql\n",
    "- ### db = sql.connect(host='localhost', port=3306, user='root', password='', database='data')\n",
    "- ### c = db.cursor()\n",
    "- ### cmd = \"create table users(email varchar(300) primary key,fname varchar(300), sname varchar(300),password varchar(500))\"\n",
    "- ### c.execute(cmd)\n",
    "- ### db.commit()\n",
    "\n",
    "### Note: A Local Server called MySQL server is required to connect MySQL. Here, we are using XAMPP Server.\n",
    "\n",
    "# Some Meanings about DB\n",
    "## What is Cursor()?\n",
    "> ### A database cursor is a control structure that enables traversal over the records in a database. Cursors facilitate subsequent processing in conjunction with the traversal, such as retrieval, addition and removal of database records.\n",
    "\n",
    "## What is execute()?\n",
    "> ### Executes a command string or character string within a Transact-SQL batch, or one of the following modules: system stored procedure, user-defined stored procedure, CLR stored procedure, scalar-valued user-defined function, or extended stored procedure.\n",
    "\n",
    "## What is Commit()?\n",
    "> ### A commit is the updating of a record in a database. In the context of a database transaction, a commit refers to the saving of data permanently after a set of tentative changes. A commit ends a transaction within a relational database and allows all other users to see the changes."
   ]
  },
  {
   "cell_type": "code",
   "execution_count": 1,
   "metadata": {
    "executionInfo": {
     "elapsed": 13,
     "status": "ok",
     "timestamp": 1692341994309,
     "user": {
      "displayName": "Kapil Jangid",
      "userId": "07056017687021908685"
     },
     "user_tz": -330
    },
    "id": "NhjL12CHaf5C"
   },
   "outputs": [],
   "source": [
    "import sqlite3 as sql"
   ]
  },
  {
   "cell_type": "code",
   "execution_count": 2,
   "metadata": {
    "executionInfo": {
     "elapsed": 913,
     "status": "ok",
     "timestamp": 1692343043245,
     "user": {
      "displayName": "Kapil Jangid",
      "userId": "07056017687021908685"
     },
     "user_tz": -330
    },
    "id": "aqekjhxKcXzl"
   },
   "outputs": [],
   "source": [
    "db = sql.connect(\"users.db\")"
   ]
  },
  {
   "cell_type": "code",
   "execution_count": 3,
   "metadata": {
    "executionInfo": {
     "elapsed": 5,
     "status": "ok",
     "timestamp": 1692343046417,
     "user": {
      "displayName": "Kapil Jangid",
      "userId": "07056017687021908685"
     },
     "user_tz": -330
    },
    "id": "pq7MSgh2c3wk"
   },
   "outputs": [],
   "source": [
    "cur = db.cursor()"
   ]
  },
  {
   "cell_type": "code",
   "execution_count": 4,
   "metadata": {
    "executionInfo": {
     "elapsed": 7,
     "status": "ok",
     "timestamp": 1692342351051,
     "user": {
      "displayName": "Kapil Jangid",
      "userId": "07056017687021908685"
     },
     "user_tz": -330
    },
    "id": "LNj86MEqdNmc"
   },
   "outputs": [],
   "source": [
    "cmd = \"create table students(id int, name varchar(25));\""
   ]
  },
  {
   "cell_type": "code",
   "execution_count": 5,
   "metadata": {
    "colab": {
     "base_uri": "https://localhost:8080/",
     "height": 35
    },
    "executionInfo": {
     "elapsed": 12,
     "status": "ok",
     "timestamp": 1692342354192,
     "user": {
      "displayName": "Kapil Jangid",
      "userId": "07056017687021908685"
     },
     "user_tz": -330
    },
    "id": "hr552Z6AdvDg",
    "outputId": "3309b8d2-48f4-4d53-b57e-2d78ad612828"
   },
   "outputs": [
    {
     "data": {
      "text/plain": [
       "'create table students(id int, name varchar(25));'"
      ]
     },
     "execution_count": 5,
     "metadata": {},
     "output_type": "execute_result"
    }
   ],
   "source": [
    "cmd"
   ]
  },
  {
   "cell_type": "code",
   "execution_count": 6,
   "metadata": {
    "colab": {
     "base_uri": "https://localhost:8080/"
    },
    "executionInfo": {
     "elapsed": 6,
     "status": "ok",
     "timestamp": 1692342361581,
     "user": {
      "displayName": "Kapil Jangid",
      "userId": "07056017687021908685"
     },
     "user_tz": -330
    },
    "id": "R46E_edNdvZN",
    "outputId": "c25ae10d-6709-43a8-bc05-fa1ec555617a"
   },
   "outputs": [
    {
     "ename": "OperationalError",
     "evalue": "table students already exists",
     "output_type": "error",
     "traceback": [
      "\u001b[1;31m---------------------------------------------------------------------------\u001b[0m",
      "\u001b[1;31mOperationalError\u001b[0m                          Traceback (most recent call last)",
      "Cell \u001b[1;32mIn[6], line 1\u001b[0m\n\u001b[1;32m----> 1\u001b[0m \u001b[43mcur\u001b[49m\u001b[38;5;241;43m.\u001b[39;49m\u001b[43mexecute\u001b[49m\u001b[43m(\u001b[49m\u001b[43mcmd\u001b[49m\u001b[43m)\u001b[49m\n",
      "\u001b[1;31mOperationalError\u001b[0m: table students already exists"
     ]
    }
   ],
   "source": [
    "cur.execute(cmd)"
   ]
  },
  {
   "cell_type": "code",
   "execution_count": 7,
   "metadata": {
    "colab": {
     "base_uri": "https://localhost:8080/"
    },
    "executionInfo": {
     "elapsed": 496,
     "status": "ok",
     "timestamp": 1692342429695,
     "user": {
      "displayName": "Kapil Jangid",
      "userId": "07056017687021908685"
     },
     "user_tz": -330
    },
    "id": "9h9HVGoqdxaY",
    "outputId": "dfb26e20-69b4-4b73-c9f9-975a7af9ab2e"
   },
   "outputs": [],
   "source": [
    "cur.execute(\"insert into students(id, name) values(1, 'jalak')\")"
   ]
  },
  {
   "cell_type": "code",
   "execution_count": 8,
   "metadata": {
    "executionInfo": {
     "elapsed": 6,
     "status": "ok",
     "timestamp": 1692342498616,
     "user": {
      "displayName": "Kapil Jangid",
      "userId": "07056017687021908685"
     },
     "user_tz": -330
    },
    "id": "xEA1lFKSeCJz"
   },
   "outputs": [],
   "source": [
    "db.commit()"
   ]
  },
  {
   "cell_type": "code",
   "execution_count": 9,
   "metadata": {
    "colab": {
     "base_uri": "https://localhost:8080/"
    },
    "executionInfo": {
     "elapsed": 7,
     "status": "ok",
     "timestamp": 1692342547881,
     "user": {
      "displayName": "Kapil Jangid",
      "userId": "07056017687021908685"
     },
     "user_tz": -330
    },
    "id": "iedf9BHVeS7G",
    "outputId": "e51f58ef-f0e5-4360-da2f-6bb9c0c82021"
   },
   "outputs": [],
   "source": [
    "cur.execute('select * from students;')"
   ]
  },
  {
   "cell_type": "code",
   "execution_count": 10,
   "metadata": {
    "colab": {
     "base_uri": "https://localhost:8080/"
    },
    "executionInfo": {
     "elapsed": 10,
     "status": "ok",
     "timestamp": 1692342570878,
     "user": {
      "displayName": "Kapil Jangid",
      "userId": "07056017687021908685"
     },
     "user_tz": -330
    },
    "id": "3Il9ZtoYefHo",
    "outputId": "42037bcc-7c6f-4587-8acf-1d1eb83c96ed"
   },
   "outputs": [],
   "source": [
    "cur.fetchall()"
   ]
  },
  {
   "cell_type": "code",
   "execution_count": 11,
   "metadata": {
    "colab": {
     "base_uri": "https://localhost:8080/"
    },
    "executionInfo": {
     "elapsed": 478,
     "status": "ok",
     "timestamp": 1692343052404,
     "user": {
      "displayName": "Kapil Jangid",
      "userId": "07056017687021908685"
     },
     "user_tz": -330
    },
    "id": "Cdt-keHtekm4",
    "outputId": "88f1c545-b854-4e51-bb43-5c98c4a9831d"
   },
   "outputs": [],
   "source": [
    "cur.execute('select * from students;')"
   ]
  },
  {
   "cell_type": "code",
   "execution_count": 12,
   "metadata": {
    "colab": {
     "base_uri": "https://localhost:8080/"
    },
    "executionInfo": {
     "elapsed": 4,
     "status": "ok",
     "timestamp": 1692343054138,
     "user": {
      "displayName": "Kapil Jangid",
      "userId": "07056017687021908685"
     },
     "user_tz": -330
    },
    "id": "4fq_KgfdgQpD",
    "outputId": "32c700e7-56c4-4dc5-da92-851557606658"
   },
   "outputs": [],
   "source": [
    "cur.fetchall()"
   ]
  },
  {
   "cell_type": "code",
   "execution_count": 13,
   "metadata": {
    "colab": {
     "base_uri": "https://localhost:8080/"
    },
    "executionInfo": {
     "elapsed": 15,
     "status": "ok",
     "timestamp": 1692343080082,
     "user": {
      "displayName": "Kapil Jangid",
      "userId": "07056017687021908685"
     },
     "user_tz": -330
    },
    "id": "xDNEB4AwgSGV",
    "outputId": "9797314b-8e86-4cb8-a21f-a3265d621ae4"
   },
   "outputs": [],
   "source": [
    "cur.execute(\"insert into students(id, name) values(2, 'krupesh')\")"
   ]
  },
  {
   "cell_type": "code",
   "execution_count": 14,
   "metadata": {
    "executionInfo": {
     "elapsed": 436,
     "status": "ok",
     "timestamp": 1692343130985,
     "user": {
      "displayName": "Kapil Jangid",
      "userId": "07056017687021908685"
     },
     "user_tz": -330
    },
    "id": "SwxFz6KIggs9"
   },
   "outputs": [],
   "source": [
    "db.commit()"
   ]
  },
  {
   "cell_type": "code",
   "execution_count": 15,
   "metadata": {
    "colab": {
     "base_uri": "https://localhost:8080/"
    },
    "executionInfo": {
     "elapsed": 6,
     "status": "ok",
     "timestamp": 1692343136334,
     "user": {
      "displayName": "Kapil Jangid",
      "userId": "07056017687021908685"
     },
     "user_tz": -330
    },
    "id": "7b0RbHbDgtDF",
    "outputId": "066971bd-6600-431a-cbac-7ea63b758cd5"
   },
   "outputs": [],
   "source": [
    "cur.execute('select * from students;')"
   ]
  },
  {
   "cell_type": "code",
   "execution_count": 16,
   "metadata": {
    "colab": {
     "base_uri": "https://localhost:8080/"
    },
    "executionInfo": {
     "elapsed": 9,
     "status": "ok",
     "timestamp": 1692343141759,
     "user": {
      "displayName": "Kapil Jangid",
      "userId": "07056017687021908685"
     },
     "user_tz": -330
    },
    "id": "RDI73iP-gudt",
    "outputId": "60065332-d12f-4c3e-8da7-24242b7b4f77"
   },
   "outputs": [],
   "source": [
    "cur.fetchall()"
   ]
  },
  {
   "cell_type": "code",
   "execution_count": 17,
   "metadata": {
    "colab": {
     "base_uri": "https://localhost:8080/"
    },
    "executionInfo": {
     "elapsed": 442,
     "status": "ok",
     "timestamp": 1692343154842,
     "user": {
      "displayName": "Kapil Jangid",
      "userId": "07056017687021908685"
     },
     "user_tz": -330
    },
    "id": "tI7Z4OnzgwF6",
    "outputId": "1f295721-dd1d-4ae0-9a98-e27d19c0f7c4"
   },
   "outputs": [],
   "source": [
    "cur.fetchall()"
   ]
  },
  {
   "cell_type": "code",
   "execution_count": 18,
   "metadata": {
    "colab": {
     "base_uri": "https://localhost:8080/"
    },
    "executionInfo": {
     "elapsed": 10,
     "status": "ok",
     "timestamp": 1692343219421,
     "user": {
      "displayName": "Kapil Jangid",
      "userId": "07056017687021908685"
     },
     "user_tz": -330
    },
    "id": "KR0D-pasgzOQ",
    "outputId": "4cd20f6a-4303-4a25-a7c9-23653e596c47"
   },
   "outputs": [],
   "source": [
    "cur.execute('select * from students;')"
   ]
  },
  {
   "cell_type": "code",
   "execution_count": 19,
   "metadata": {
    "executionInfo": {
     "elapsed": 3,
     "status": "ok",
     "timestamp": 1692343227612,
     "user": {
      "displayName": "Kapil Jangid",
      "userId": "07056017687021908685"
     },
     "user_tz": -330
    },
    "id": "5B5yLiIKhDBA"
   },
   "outputs": [],
   "source": [
    "data = cur.fetchall()"
   ]
  },
  {
   "cell_type": "code",
   "execution_count": 20,
   "metadata": {
    "colab": {
     "base_uri": "https://localhost:8080/"
    },
    "executionInfo": {
     "elapsed": 5,
     "status": "ok",
     "timestamp": 1692343230293,
     "user": {
      "displayName": "Kapil Jangid",
      "userId": "07056017687021908685"
     },
     "user_tz": -330
    },
    "id": "2XodOTh1hFA8",
    "outputId": "e5e36b13-ee71-4476-8495-3813e4c94796"
   },
   "outputs": [],
   "source": [
    "data"
   ]
  },
  {
   "cell_type": "code",
   "execution_count": 21,
   "metadata": {
    "colab": {
     "base_uri": "https://localhost:8080/"
    },
    "executionInfo": {
     "elapsed": 7,
     "status": "ok",
     "timestamp": 1692343242794,
     "user": {
      "displayName": "Kapil Jangid",
      "userId": "07056017687021908685"
     },
     "user_tz": -330
    },
    "id": "2W0_t6f4hFY_",
    "outputId": "2905feaa-b337-4786-ee80-3c6152b56347"
   },
   "outputs": [],
   "source": [
    "for i in data:\n",
    "  print(i)"
   ]
  },
  {
   "cell_type": "code",
   "execution_count": 22,
   "metadata": {
    "colab": {
     "base_uri": "https://localhost:8080/"
    },
    "executionInfo": {
     "elapsed": 6,
     "status": "ok",
     "timestamp": 1692343254890,
     "user": {
      "displayName": "Kapil Jangid",
      "userId": "07056017687021908685"
     },
     "user_tz": -330
    },
    "id": "2zde4v8chIuX",
    "outputId": "dc3a2d09-a1bb-4238-fa90-bfa175f87646"
   },
   "outputs": [],
   "source": [
    "for i,j in data:\n",
    "  print(i,j)"
   ]
  },
  {
   "cell_type": "code",
   "execution_count": 23,
   "metadata": {
    "colab": {
     "base_uri": "https://localhost:8080/"
    },
    "executionInfo": {
     "elapsed": 444,
     "status": "ok",
     "timestamp": 1692343366074,
     "user": {
      "displayName": "Kapil Jangid",
      "userId": "07056017687021908685"
     },
     "user_tz": -330
    },
    "id": "A6AQvrvkhLkd",
    "outputId": "0631fd83-22d0-4872-97c3-c68d27622b45"
   },
   "outputs": [],
   "source": [
    "cur.execute('update students set name = \"jalak vora\" where id = 1;')"
   ]
  },
  {
   "cell_type": "code",
   "execution_count": 24,
   "metadata": {
    "executionInfo": {
     "elapsed": 4,
     "status": "ok",
     "timestamp": 1692343373233,
     "user": {
      "displayName": "Kapil Jangid",
      "userId": "07056017687021908685"
     },
     "user_tz": -330
    },
    "id": "p42rxzZ4hm0z"
   },
   "outputs": [],
   "source": [
    "db.commit()"
   ]
  },
  {
   "cell_type": "code",
   "execution_count": 8,
   "metadata": {
    "colab": {
     "base_uri": "https://localhost:8080/"
    },
    "executionInfo": {
     "elapsed": 6,
     "status": "ok",
     "timestamp": 1692343413818,
     "user": {
      "displayName": "Kapil Jangid",
      "userId": "07056017687021908685"
     },
     "user_tz": -330
    },
    "id": "fqHfWErohojz",
    "outputId": "530f1b67-1db5-4b5c-aab4-4b09807dff81"
   },
   "outputs": [
    {
     "data": {
      "text/plain": [
       "<sqlite3.Cursor at 0x2448c9e0140>"
      ]
     },
     "execution_count": 8,
     "metadata": {},
     "output_type": "execute_result"
    }
   ],
   "source": [
    "cur.execute(\"select * from students;\")"
   ]
  },
  {
   "cell_type": "code",
   "execution_count": 9,
   "metadata": {
    "colab": {
     "base_uri": "https://localhost:8080/"
    },
    "executionInfo": {
     "elapsed": 7,
     "status": "ok",
     "timestamp": 1692343419885,
     "user": {
      "displayName": "Kapil Jangid",
      "userId": "07056017687021908685"
     },
     "user_tz": -330
    },
    "id": "rj8uDkd2hubQ",
    "outputId": "61fd3ff9-68c1-40c0-b91a-3ecc8515e943"
   },
   "outputs": [
    {
     "data": {
      "text/plain": [
       "(1, 'jalak vora')"
      ]
     },
     "execution_count": 9,
     "metadata": {},
     "output_type": "execute_result"
    }
   ],
   "source": [
    "cur.fetchone()"
   ]
  },
  {
   "cell_type": "code",
   "execution_count": 10,
   "metadata": {
    "id": "F_colSL8jsjR"
   },
   "outputs": [
    {
     "data": {
      "text/plain": [
       "(2, 'krupesh')"
      ]
     },
     "execution_count": 10,
     "metadata": {},
     "output_type": "execute_result"
    }
   ],
   "source": [
    "cur.fetchone()"
   ]
  },
  {
   "cell_type": "code",
   "execution_count": 11,
   "metadata": {},
   "outputs": [],
   "source": [
    "cur.fetchone()"
   ]
  },
  {
   "cell_type": "code",
   "execution_count": 12,
   "metadata": {},
   "outputs": [
    {
     "data": {
      "text/plain": [
       "<sqlite3.Cursor at 0x2448c9e0140>"
      ]
     },
     "execution_count": 12,
     "metadata": {},
     "output_type": "execute_result"
    }
   ],
   "source": [
    "# delete record\n",
    "\n",
    "cur.execute('delete from students where id = 1')"
   ]
  },
  {
   "cell_type": "code",
   "execution_count": 13,
   "metadata": {},
   "outputs": [],
   "source": [
    "db.commit()"
   ]
  },
  {
   "cell_type": "code",
   "execution_count": 14,
   "metadata": {},
   "outputs": [
    {
     "data": {
      "text/plain": [
       "<sqlite3.Cursor at 0x2448c9e0140>"
      ]
     },
     "execution_count": 14,
     "metadata": {},
     "output_type": "execute_result"
    }
   ],
   "source": [
    "# drop table\n",
    "\n",
    "cur.execute('drop table students;')"
   ]
  },
  {
   "cell_type": "code",
   "execution_count": 15,
   "metadata": {},
   "outputs": [
    {
     "data": {
      "text/plain": [
       "<sqlite3.Cursor at 0x2448c9e0140>"
      ]
     },
     "execution_count": 15,
     "metadata": {},
     "output_type": "execute_result"
    }
   ],
   "source": [
    "# create a table\n",
    "\n",
    "cmd = '''create table students(id int, name varchar(25), city varchar(25))'''\n",
    "cur.execute(cmd)"
   ]
  },
  {
   "cell_type": "code",
   "execution_count": 16,
   "metadata": {},
   "outputs": [
    {
     "data": {
      "text/plain": [
       "<sqlite3.Cursor at 0x2448c9e0140>"
      ]
     },
     "execution_count": 16,
     "metadata": {},
     "output_type": "execute_result"
    }
   ],
   "source": [
    "# inserting record\n",
    "\n",
    "cmd = '''insert into students(id, name, city) values(1, \"jalak\", \"ahmedabad\")'''\n",
    "cur.execute(cmd)"
   ]
  },
  {
   "cell_type": "code",
   "execution_count": 17,
   "metadata": {},
   "outputs": [],
   "source": [
    "db.commit()"
   ]
  },
  {
   "cell_type": "code",
   "execution_count": 18,
   "metadata": {},
   "outputs": [],
   "source": [
    "data = {\n",
    "    'id': 2,\n",
    "    'name': 'simar',\n",
    "    'city': 'ajmer'\n",
    "}"
   ]
  },
  {
   "cell_type": "code",
   "execution_count": 19,
   "metadata": {},
   "outputs": [
    {
     "data": {
      "text/plain": [
       "dict_keys(['id', 'name', 'city'])"
      ]
     },
     "execution_count": 19,
     "metadata": {},
     "output_type": "execute_result"
    }
   ],
   "source": [
    "data.keys()"
   ]
  },
  {
   "cell_type": "code",
   "execution_count": 20,
   "metadata": {},
   "outputs": [
    {
     "data": {
      "text/plain": [
       "dict_values([2, 'simar', 'ajmer'])"
      ]
     },
     "execution_count": 20,
     "metadata": {},
     "output_type": "execute_result"
    }
   ],
   "source": [
    "data.values()"
   ]
  },
  {
   "cell_type": "code",
   "execution_count": 21,
   "metadata": {},
   "outputs": [
    {
     "data": {
      "text/plain": [
       "(2, 'simar', 'ajmer')"
      ]
     },
     "execution_count": 21,
     "metadata": {},
     "output_type": "execute_result"
    }
   ],
   "source": [
    "tuple(data.values())"
   ]
  },
  {
   "cell_type": "code",
   "execution_count": 22,
   "metadata": {},
   "outputs": [],
   "source": [
    "cmd = f'''insert into students{tuple(data.keys())} values{tuple(data.values())}'''"
   ]
  },
  {
   "cell_type": "code",
   "execution_count": 23,
   "metadata": {},
   "outputs": [
    {
     "data": {
      "text/plain": [
       "\"insert into students('id', 'name', 'city') values(2, 'simar', 'ajmer')\""
      ]
     },
     "execution_count": 23,
     "metadata": {},
     "output_type": "execute_result"
    }
   ],
   "source": [
    "cmd"
   ]
  },
  {
   "cell_type": "code",
   "execution_count": 24,
   "metadata": {},
   "outputs": [
    {
     "data": {
      "text/plain": [
       "<sqlite3.Cursor at 0x2448c9e0140>"
      ]
     },
     "execution_count": 24,
     "metadata": {},
     "output_type": "execute_result"
    }
   ],
   "source": [
    "cur.execute(cmd)"
   ]
  },
  {
   "cell_type": "code",
   "execution_count": 25,
   "metadata": {},
   "outputs": [],
   "source": [
    "db.commit()"
   ]
  },
  {
   "cell_type": "code",
   "execution_count": 26,
   "metadata": {},
   "outputs": [],
   "source": [
    "data = [\n",
    "    {\n",
    "        'id': 3,\n",
    "        'name': 'krupesh',\n",
    "        'city': 'ahmedabad'\n",
    "    },\n",
    "    {\n",
    "        'id': 4,\n",
    "        'name': 'mittul',\n",
    "        'city': 'ahmedabad'\n",
    "    },\n",
    "    {\n",
    "        'id': 5,\n",
    "        'name': 'kapil',\n",
    "        'city': 'ajmer'\n",
    "    }\n",
    "]"
   ]
  },
  {
   "cell_type": "code",
   "execution_count": 27,
   "metadata": {},
   "outputs": [
    {
     "name": "stdout",
     "output_type": "stream",
     "text": [
      "{'id': 3, 'name': 'krupesh', 'city': 'ahmedabad'}\n",
      "{'id': 4, 'name': 'mittul', 'city': 'ahmedabad'}\n",
      "{'id': 5, 'name': 'kapil', 'city': 'ajmer'}\n"
     ]
    }
   ],
   "source": [
    "for d in data:\n",
    "    print(d)"
   ]
  },
  {
   "cell_type": "code",
   "execution_count": 28,
   "metadata": {},
   "outputs": [
    {
     "name": "stdout",
     "output_type": "stream",
     "text": [
      "dict_keys(['id', 'name', 'city']) dict_values([3, 'krupesh', 'ahmedabad'])\n",
      "dict_keys(['id', 'name', 'city']) dict_values([4, 'mittul', 'ahmedabad'])\n",
      "dict_keys(['id', 'name', 'city']) dict_values([5, 'kapil', 'ajmer'])\n"
     ]
    }
   ],
   "source": [
    "for d in data:\n",
    "    print(d.keys(), d.values())"
   ]
  },
  {
   "cell_type": "code",
   "execution_count": 30,
   "metadata": {},
   "outputs": [
    {
     "name": "stdout",
     "output_type": "stream",
     "text": [
      "insert into students('id', 'name', 'city') values(3, 'krupesh', 'ahmedabad')\n",
      "insert into students('id', 'name', 'city') values(4, 'mittul', 'ahmedabad')\n",
      "insert into students('id', 'name', 'city') values(5, 'kapil', 'ajmer')\n"
     ]
    }
   ],
   "source": [
    "for d in data:\n",
    "    keys = tuple(d.keys())\n",
    "    values = tuple(d.values())\n",
    "    cmd = f'''insert into students{keys} values{values}'''\n",
    "    print(cmd)"
   ]
  },
  {
   "cell_type": "code",
   "execution_count": 31,
   "metadata": {},
   "outputs": [],
   "source": [
    "for d in data:\n",
    "    keys = tuple(d.keys())\n",
    "    values = tuple(d.values())\n",
    "    cmd = f'''insert into students{keys} values{values}'''\n",
    "    # print(cmd)\n",
    "    cur.execute(cmd)\n",
    "else:\n",
    "    db.commit()"
   ]
  },
  {
   "cell_type": "code",
   "execution_count": null,
   "metadata": {},
   "outputs": [],
   "source": [
    "# apply reusability - creating function for each operation\n",
    "\n",
    "# insert_record(tbl_name, **fields)\n",
    "# update_record(tbl_name, fld_name, new_val, {id:val}) - update tbl_name set fld_name = new_val where id = val\n",
    "# delete_record(tbl_name, fld_name, condition)"
   ]
  },
  {
   "cell_type": "code",
   "execution_count": 32,
   "metadata": {},
   "outputs": [],
   "source": [
    "# insert_record\n",
    "\n",
    "def insert_record(tbl_name, **fields_values):\n",
    "    print(tbl_name, fields_values)"
   ]
  },
  {
   "cell_type": "code",
   "execution_count": 33,
   "metadata": {},
   "outputs": [
    {
     "name": "stdout",
     "output_type": "stream",
     "text": [
      "students {'id': 1, 'name': 'krupesh', 'city': 'ahmedabad'}\n"
     ]
    }
   ],
   "source": [
    "insert_record('students', id=1, name='krupesh', city='ahmedabad')"
   ]
  },
  {
   "cell_type": "code",
   "execution_count": 34,
   "metadata": {},
   "outputs": [],
   "source": [
    "def insert_record(tbl_name, **fields_values):\n",
    "    keys = tuple(fields_values.keys())\n",
    "    values = tuple(fields_values.values())\n",
    "    cmd = f'''insert into students{keys} values{values}'''\n",
    "    print(cmd)"
   ]
  },
  {
   "cell_type": "code",
   "execution_count": 35,
   "metadata": {},
   "outputs": [
    {
     "name": "stdout",
     "output_type": "stream",
     "text": [
      "insert into students('id', 'name', 'city') values(1, 'krupesh', 'ahmedabad')\n"
     ]
    }
   ],
   "source": [
    "insert_record('students', id=1, name='krupesh', city='ahmedabad')"
   ]
  },
  {
   "cell_type": "code",
   "execution_count": 48,
   "metadata": {},
   "outputs": [],
   "source": [
    "def insert_record(tbl_name, **fields_values):\n",
    "    keys = tuple(fields_values.keys())\n",
    "    values = tuple(fields_values.values())\n",
    "    cmd = f'''insert into {tbl_name}{keys} values{values}'''\n",
    "    cur.execute(cmd)\n",
    "    db.commit()"
   ]
  },
  {
   "cell_type": "code",
   "execution_count": 37,
   "metadata": {},
   "outputs": [],
   "source": [
    "insert_record('students', id=6, name='xyz', city='ahmedabad')"
   ]
  },
  {
   "cell_type": "code",
   "execution_count": 38,
   "metadata": {},
   "outputs": [
    {
     "ename": "OperationalError",
     "evalue": "table students has no column named state",
     "output_type": "error",
     "traceback": [
      "\u001b[1;31m---------------------------------------------------------------------------\u001b[0m",
      "\u001b[1;31mOperationalError\u001b[0m                          Traceback (most recent call last)",
      "Cell \u001b[1;32mIn[38], line 1\u001b[0m\n\u001b[1;32m----> 1\u001b[0m \u001b[43minsert_record\u001b[49m\u001b[43m(\u001b[49m\u001b[38;5;124;43m'\u001b[39;49m\u001b[38;5;124;43mstudents\u001b[39;49m\u001b[38;5;124;43m'\u001b[39;49m\u001b[43m,\u001b[49m\u001b[43m \u001b[49m\u001b[38;5;28;43mid\u001b[39;49m\u001b[38;5;241;43m=\u001b[39;49m\u001b[38;5;241;43m6\u001b[39;49m\u001b[43m,\u001b[49m\u001b[43m \u001b[49m\u001b[43mstate\u001b[49m\u001b[38;5;241;43m=\u001b[39;49m\u001b[38;5;124;43m'\u001b[39;49m\u001b[38;5;124;43mxyz\u001b[39;49m\u001b[38;5;124;43m'\u001b[39;49m\u001b[43m,\u001b[49m\u001b[43m \u001b[49m\u001b[43mcity\u001b[49m\u001b[38;5;241;43m=\u001b[39;49m\u001b[38;5;124;43m'\u001b[39;49m\u001b[38;5;124;43mahmedabad\u001b[39;49m\u001b[38;5;124;43m'\u001b[39;49m\u001b[43m)\u001b[49m\n",
      "Cell \u001b[1;32mIn[36], line 5\u001b[0m, in \u001b[0;36minsert_record\u001b[1;34m(tbl_name, **fields_values)\u001b[0m\n\u001b[0;32m      3\u001b[0m values \u001b[38;5;241m=\u001b[39m \u001b[38;5;28mtuple\u001b[39m(fields_values\u001b[38;5;241m.\u001b[39mvalues())\n\u001b[0;32m      4\u001b[0m cmd \u001b[38;5;241m=\u001b[39m \u001b[38;5;124mf\u001b[39m\u001b[38;5;124m'''\u001b[39m\u001b[38;5;124minsert into students\u001b[39m\u001b[38;5;132;01m{\u001b[39;00mkeys\u001b[38;5;132;01m}\u001b[39;00m\u001b[38;5;124m values\u001b[39m\u001b[38;5;132;01m{\u001b[39;00mvalues\u001b[38;5;132;01m}\u001b[39;00m\u001b[38;5;124m'''\u001b[39m\n\u001b[1;32m----> 5\u001b[0m \u001b[43mcur\u001b[49m\u001b[38;5;241;43m.\u001b[39;49m\u001b[43mexecute\u001b[49m\u001b[43m(\u001b[49m\u001b[43mcmd\u001b[49m\u001b[43m)\u001b[49m\n\u001b[0;32m      6\u001b[0m db\u001b[38;5;241m.\u001b[39mcommit()\n",
      "\u001b[1;31mOperationalError\u001b[0m: table students has no column named state"
     ]
    }
   ],
   "source": [
    "insert_record('students', id=6, state='xyz', city='ahmedabad')"
   ]
  },
  {
   "cell_type": "code",
   "execution_count": 39,
   "metadata": {},
   "outputs": [
    {
     "name": "stdout",
     "output_type": "stream",
     "text": [
      "table students has no column named state\n"
     ]
    }
   ],
   "source": [
    "try:\n",
    "    insert_record('students', id=6, state='xyz', city='ahmedabad')\n",
    "except Exception as err:\n",
    "    print(err)"
   ]
  },
  {
   "cell_type": "code",
   "execution_count": 42,
   "metadata": {},
   "outputs": [
    {
     "data": {
      "text/plain": [
       "<sqlite3.Cursor at 0x2448c9e0140>"
      ]
     },
     "execution_count": 42,
     "metadata": {},
     "output_type": "execute_result"
    }
   ],
   "source": [
    "cur.execute('pragma table_info(students)')"
   ]
  },
  {
   "cell_type": "code",
   "execution_count": 41,
   "metadata": {},
   "outputs": [
    {
     "data": {
      "text/plain": [
       "[(0, 'id', 'INT', 0, None, 0),\n",
       " (1, 'name', 'varchar(25)', 0, None, 0),\n",
       " (2, 'city', 'varchar(25)', 0, None, 0)]"
      ]
     },
     "execution_count": 41,
     "metadata": {},
     "output_type": "execute_result"
    }
   ],
   "source": [
    "cur.fetchall()"
   ]
  },
  {
   "cell_type": "code",
   "execution_count": 43,
   "metadata": {},
   "outputs": [],
   "source": [
    "tbl_info = cur.fetchall()"
   ]
  },
  {
   "cell_type": "code",
   "execution_count": 44,
   "metadata": {},
   "outputs": [
    {
     "data": {
      "text/plain": [
       "[(0, 'id', 'INT', 0, None, 0),\n",
       " (1, 'name', 'varchar(25)', 0, None, 0),\n",
       " (2, 'city', 'varchar(25)', 0, None, 0)]"
      ]
     },
     "execution_count": 44,
     "metadata": {},
     "output_type": "execute_result"
    }
   ],
   "source": [
    "tbl_info"
   ]
  },
  {
   "cell_type": "code",
   "execution_count": 45,
   "metadata": {},
   "outputs": [
    {
     "name": "stdout",
     "output_type": "stream",
     "text": [
      "(0, 'id', 'INT', 0, None, 0)\n",
      "(1, 'name', 'varchar(25)', 0, None, 0)\n",
      "(2, 'city', 'varchar(25)', 0, None, 0)\n"
     ]
    }
   ],
   "source": [
    "for i in tbl_info:\n",
    "    print(i)"
   ]
  },
  {
   "cell_type": "code",
   "execution_count": 46,
   "metadata": {},
   "outputs": [
    {
     "name": "stdout",
     "output_type": "stream",
     "text": [
      "id\n",
      "name\n",
      "city\n"
     ]
    }
   ],
   "source": [
    "for i in tbl_info:\n",
    "    print(i[1])"
   ]
  },
  {
   "cell_type": "code",
   "execution_count": 49,
   "metadata": {},
   "outputs": [
    {
     "ename": "OperationalError",
     "evalue": "no such table: users",
     "output_type": "error",
     "traceback": [
      "\u001b[1;31m---------------------------------------------------------------------------\u001b[0m",
      "\u001b[1;31mOperationalError\u001b[0m                          Traceback (most recent call last)",
      "Cell \u001b[1;32mIn[49], line 1\u001b[0m\n\u001b[1;32m----> 1\u001b[0m \u001b[43minsert_record\u001b[49m\u001b[43m(\u001b[49m\u001b[38;5;124;43m'\u001b[39;49m\u001b[38;5;124;43musers\u001b[39;49m\u001b[38;5;124;43m'\u001b[39;49m\u001b[43m,\u001b[49m\u001b[43m \u001b[49m\u001b[38;5;28;43mid\u001b[39;49m\u001b[38;5;241;43m=\u001b[39;49m\u001b[38;5;241;43m6\u001b[39;49m\u001b[43m,\u001b[49m\u001b[43m \u001b[49m\u001b[43mname\u001b[49m\u001b[38;5;241;43m=\u001b[39;49m\u001b[38;5;124;43m'\u001b[39;49m\u001b[38;5;124;43mxyz\u001b[39;49m\u001b[38;5;124;43m'\u001b[39;49m\u001b[43m,\u001b[49m\u001b[43m \u001b[49m\u001b[43mcity\u001b[49m\u001b[38;5;241;43m=\u001b[39;49m\u001b[38;5;124;43m'\u001b[39;49m\u001b[38;5;124;43mahmedabad\u001b[39;49m\u001b[38;5;124;43m'\u001b[39;49m\u001b[43m)\u001b[49m\n",
      "Cell \u001b[1;32mIn[48], line 5\u001b[0m, in \u001b[0;36minsert_record\u001b[1;34m(tbl_name, **fields_values)\u001b[0m\n\u001b[0;32m      3\u001b[0m values \u001b[38;5;241m=\u001b[39m \u001b[38;5;28mtuple\u001b[39m(fields_values\u001b[38;5;241m.\u001b[39mvalues())\n\u001b[0;32m      4\u001b[0m cmd \u001b[38;5;241m=\u001b[39m \u001b[38;5;124mf\u001b[39m\u001b[38;5;124m'''\u001b[39m\u001b[38;5;124minsert into \u001b[39m\u001b[38;5;132;01m{\u001b[39;00mtbl_name\u001b[38;5;132;01m}\u001b[39;00m\u001b[38;5;132;01m{\u001b[39;00mkeys\u001b[38;5;132;01m}\u001b[39;00m\u001b[38;5;124m values\u001b[39m\u001b[38;5;132;01m{\u001b[39;00mvalues\u001b[38;5;132;01m}\u001b[39;00m\u001b[38;5;124m'''\u001b[39m\n\u001b[1;32m----> 5\u001b[0m \u001b[43mcur\u001b[49m\u001b[38;5;241;43m.\u001b[39;49m\u001b[43mexecute\u001b[49m\u001b[43m(\u001b[49m\u001b[43mcmd\u001b[49m\u001b[43m)\u001b[49m\n\u001b[0;32m      6\u001b[0m db\u001b[38;5;241m.\u001b[39mcommit()\n",
      "\u001b[1;31mOperationalError\u001b[0m: no such table: users"
     ]
    }
   ],
   "source": [
    "insert_record('users', id=6, name='xyz', city='ahmedabad')"
   ]
  },
  {
   "cell_type": "code",
   "execution_count": 52,
   "metadata": {},
   "outputs": [],
   "source": [
    "def insert_record(tbl_name, **fields_values):\n",
    "    keys = tuple(fields_values.keys())\n",
    "    values = tuple(fields_values.values())\n",
    "    try:\n",
    "        cmd = f'''insert into {tbl_name}{keys} values{values}'''\n",
    "        cur.execute(cmd)\n",
    "        db.commit()\n",
    "    except Exception as err:\n",
    "        if 'no such table' in err.args[0]:\n",
    "            print(f\"{tbl_name} doesn't exist.\")\n",
    "        elif 'no column named' in err.args[0]:\n",
    "            invalid_fld = err.args[0].split()[-1]\n",
    "            cur.execute('pragma table_info(students)')\n",
    "            tbl_info = cur.fetchall()\n",
    "            avl_flds = []\n",
    "            for i in tbl_info:\n",
    "                avl_flds.append(i[1])\n",
    "                \n",
    "            print(f'\"{invalid_fld}\" is not defined in table {tbl_name}.')\n",
    "            print(f'Please follow the mentioned fields available in table {tbl_name}: {avl_flds}.')"
   ]
  },
  {
   "cell_type": "code",
   "execution_count": 53,
   "metadata": {},
   "outputs": [
    {
     "name": "stdout",
     "output_type": "stream",
     "text": [
      "users doesn't exist.\n"
     ]
    }
   ],
   "source": [
    "insert_record('users', id=6, name='xyz', city='ahmedabad')"
   ]
  },
  {
   "cell_type": "code",
   "execution_count": 54,
   "metadata": {},
   "outputs": [
    {
     "name": "stdout",
     "output_type": "stream",
     "text": [
      "\"age\" is not defined in table students.\n",
      "Please follow the mentioned fields available in table students: ['id', 'name', 'city'].\n"
     ]
    }
   ],
   "source": [
    "insert_record('students', id=6, age='xyz', city='ahmedabad')"
   ]
  },
  {
   "cell_type": "code",
   "execution_count": 3,
   "metadata": {},
   "outputs": [
    {
     "name": "stdout",
     "output_type": "stream",
     "text": [
      "name 'city' is not defined name 'city' is not defined\n"
     ]
    }
   ],
   "source": [
    "try:\n",
    "    print(city)\n",
    "except Exception as err:\n",
    "    print(err, err.args[0])"
   ]
  },
  {
   "cell_type": "code",
   "execution_count": 13,
   "metadata": {},
   "outputs": [],
   "source": [
    "# update_record(tbl_name, fld_name, new_val, {id:val})\n",
    "\n",
    "def update_record(tbl_name, fld_name, new_val, **condition):\n",
    "    key = list(condition.keys())[0]\n",
    "    value = list(condition.values())[0]\n",
    "    cmd = f'''update {tbl_name} set {fld_name} = '{new_val}' where {key} = {value}'''\n",
    "    print(cmd)"
   ]
  },
  {
   "cell_type": "code",
   "execution_count": 14,
   "metadata": {},
   "outputs": [
    {
     "name": "stdout",
     "output_type": "stream",
     "text": [
      "update students set name = 'jalak vora' where id = 1\n"
     ]
    }
   ],
   "source": [
    "update_record('students', 'name', 'jalak vora', id=1)"
   ]
  },
  {
   "cell_type": "code",
   "execution_count": 10,
   "metadata": {
    "scrolled": true
   },
   "outputs": [
    {
     "data": {
      "text/plain": [
       "'id'"
      ]
     },
     "execution_count": 10,
     "metadata": {},
     "output_type": "execute_result"
    }
   ],
   "source": [
    "list({'id': 2}.keys())[0]"
   ]
  },
  {
   "cell_type": "code",
   "execution_count": 15,
   "metadata": {},
   "outputs": [],
   "source": [
    "import sqlite3 as sql\n",
    "db = sql.connect('users.db')\n",
    "cur = db.cursor()"
   ]
  },
  {
   "cell_type": "code",
   "execution_count": 16,
   "metadata": {},
   "outputs": [],
   "source": [
    "def update_record(tbl_name, fld_name, new_val, **condition):\n",
    "    key = list(condition.keys())[0]\n",
    "    value = list(condition.values())[0]\n",
    "    cmd = f'''update {tbl_name} set {fld_name} = '{new_val}' where {key} = {value}'''\n",
    "    cur.execute(cmd)\n",
    "    db.commit()"
   ]
  },
  {
   "cell_type": "code",
   "execution_count": 17,
   "metadata": {},
   "outputs": [],
   "source": [
    "update_record('students', 'name', 'simarjeet singh', id=2)"
   ]
  },
  {
   "cell_type": "code",
   "execution_count": 45,
   "metadata": {},
   "outputs": [],
   "source": [
    "d = {'id': 2, 'city': 'ajmer', 'pincode':308001}"
   ]
  },
  {
   "cell_type": "code",
   "execution_count": 46,
   "metadata": {},
   "outputs": [
    {
     "data": {
      "text/plain": [
       "dict_items([('id', 2), ('city', 'ajmer'), ('pincode', 308001)])"
      ]
     },
     "execution_count": 46,
     "metadata": {},
     "output_type": "execute_result"
    }
   ],
   "source": [
    "# where name = 2 and city = ajmer\n",
    "d.items()"
   ]
  },
  {
   "cell_type": "code",
   "execution_count": 47,
   "metadata": {},
   "outputs": [
    {
     "name": "stdout",
     "output_type": "stream",
     "text": [
      "where id = 2 and city = ajmer and pincode = 308001 and \n"
     ]
    }
   ],
   "source": [
    "q = 'where '\n",
    "for i in d.items():\n",
    "    q += f\"{i[0]} = {i[1]} and \"\n",
    "\n",
    "print(q)"
   ]
  },
  {
   "cell_type": "code",
   "execution_count": 48,
   "metadata": {},
   "outputs": [
    {
     "name": "stdout",
     "output_type": "stream",
     "text": [
      "where id = 2 and city = 'ajmer' and pincode = 308001\n"
     ]
    }
   ],
   "source": [
    "q = []\n",
    "for i in d.items():\n",
    "    if type(i[1]) == int:\n",
    "        q.append(f\"{i[0]} = {i[1]}\")\n",
    "    else:\n",
    "        q.append(f\"{i[0]} = '{i[1]}'\")\n",
    "\n",
    "w = 'where '\n",
    "\n",
    "c = ' and '.join(q)\n",
    "\n",
    "print(w + c)"
   ]
  },
  {
   "cell_type": "code",
   "execution_count": 38,
   "metadata": {},
   "outputs": [
    {
     "data": {
      "text/plain": [
       "True"
      ]
     },
     "execution_count": 38,
     "metadata": {},
     "output_type": "execute_result"
    }
   ],
   "source": [
    "type(2) == int"
   ]
  },
  {
   "cell_type": "code",
   "execution_count": null,
   "metadata": {},
   "outputs": [],
   "source": []
  },
  {
   "cell_type": "code",
   "execution_count": 60,
   "metadata": {},
   "outputs": [],
   "source": [
    "def update_record(tbl_name, fld_name, new_val, **condition):\n",
    "    if len(condition) <= 1:\n",
    "        key = list(condition.keys())[0]\n",
    "        value = list(condition.values())[0]\n",
    "        cmd = f'''update {tbl_name} set {fld_name} = '{new_val}' where {key} = {value}'''\n",
    "    elif len(condition) > 1:\n",
    "        q = []\n",
    "        for i in condition.items():\n",
    "            if type(i[1]) == int:\n",
    "                q.append(f\"{i[0]} = {i[1]}\")\n",
    "            else:\n",
    "                q.append(f\"{i[0]} = '{i[1]}'\")\n",
    "\n",
    "        c = ' and '.join(q)\n",
    "        \n",
    "        cmd = f'''update {tbl_name} set {fld_name} = '{new_val}' where {c}'''\n",
    "    #cur.execute(cmd)\n",
    "    #db.commit()\n",
    "    print(cmd)"
   ]
  },
  {
   "cell_type": "code",
   "execution_count": 57,
   "metadata": {},
   "outputs": [
    {
     "name": "stdout",
     "output_type": "stream",
     "text": [
      "update students set name = 'simarjeet singh' where id = 2\n"
     ]
    }
   ],
   "source": [
    "update_record('students', 'name', 'simarjeet singh', id=2)"
   ]
  },
  {
   "cell_type": "code",
   "execution_count": 58,
   "metadata": {},
   "outputs": [
    {
     "name": "stdout",
     "output_type": "stream",
     "text": [
      "id = 2 and city = 'ajmer'\n",
      "update students set name = 'simarjeet singh' where id = 2 and city = 'ajmer'\n"
     ]
    }
   ],
   "source": [
    "update_record('students', 'name', 'simarjeet singh', id=2, city='ajmer')"
   ]
  },
  {
   "cell_type": "code",
   "execution_count": 59,
   "metadata": {},
   "outputs": [
    {
     "name": "stdout",
     "output_type": "stream",
     "text": [
      "id = 2 and city = 'ajmer' and pincode = 308001\n",
      "update students set name = 'simarjeet singh' where id = 2 and city = 'ajmer' and pincode = 308001\n"
     ]
    }
   ],
   "source": [
    "update_record('students', 'name', 'simarjeet singh', id=2, city='ajmer', pincode=308001)"
   ]
  },
  {
   "cell_type": "code",
   "execution_count": 1,
   "metadata": {},
   "outputs": [],
   "source": [
    "# Mysql connector\n",
    "\n",
    "import mysql.connector as sql"
   ]
  },
  {
   "cell_type": "code",
   "execution_count": 2,
   "metadata": {},
   "outputs": [],
   "source": [
    "db = sql.connect()"
   ]
  },
  {
   "cell_type": "code",
   "execution_count": 3,
   "metadata": {},
   "outputs": [
    {
     "name": "stdout",
     "output_type": "stream",
     "text": [
      "['__abstractmethods__', '__annotations__', '__class__', '__delattr__', '__dict__', '__dir__', '__doc__', '__enter__', '__eq__', '__exit__', '__format__', '__ge__', '__getattribute__', '__getstate__', '__gt__', '__hash__', '__init__', '__init_subclass__', '__le__', '__lt__', '__module__', '__ne__', '__new__', '__reduce__', '__reduce_ex__', '__repr__', '__setattr__', '__sizeof__', '__slots__', '__str__', '__subclasshook__', '__weakref__', '_abc_impl', '_add_default_conn_attrs', '_allow_local_infile', '_allow_local_infile_in_path', '_auth_plugin', '_auth_plugin_class', '_autocommit', '_buffered', '_charset_id', '_check_server_version', '_client_flags', '_client_host', '_client_port', '_cmysql', '_columns', '_compress', '_conn_attrs', '_connection_timeout', '_consume_results', '_converter_class', '_converter_str_fallback', '_database', '_do_handshake', '_execute_query', '_fido_callback', '_force_ipv6', '_get_warnings', '_handshake', '_have_next_result', '_host', '_in_transaction', '_init_command', '_krb_service_principal', '_oci_config_file', '_open_connection', '_password', '_password1', '_password2', '_password3', '_plugin_dir', '_pool_config_version', '_port', '_post_connection', '_prepared_statements', '_query_attrs', '_raise_on_warnings', '_raw', '_server_status', '_server_version', '_sql_mode', '_ssl', '_ssl_active', '_ssl_disabled', '_time_zone', '_unix_socket', '_unread_result', '_use_unicode', '_user', '_validate_tls_ciphersuites', '_validate_tls_versions', 'autocommit', 'can_consume_results', 'charset', 'close', 'cmd_change_user', 'cmd_debug', 'cmd_init_db', 'cmd_ping', 'cmd_process_info', 'cmd_process_kill', 'cmd_query', 'cmd_query_iter', 'cmd_quit', 'cmd_refresh', 'cmd_reset_connection', 'cmd_shutdown', 'cmd_statistics', 'cmd_stmt_close', 'cmd_stmt_execute', 'cmd_stmt_prepare', 'cmd_stmt_reset', 'cmd_stmt_send_long_data', 'collation', 'commit', 'config', 'connect', 'connection_id', 'consume_results', 'converter', 'cursor', 'database', 'disconnect', 'fetch_eof_columns', 'fetch_eof_status', 'free_result', 'get_row', 'get_rows', 'get_self', 'get_server_info', 'get_server_version', 'get_warnings', 'handle_unread_result', 'have_next_result', 'in_transaction', 'info_query', 'is_closed', 'is_connected', 'is_secure', 'isset_client_flag', 'more_results', 'next_result', 'num_rows', 'ping', 'pool_config_version', 'prepare_for_mysql', 'python_charset', 'query_attrs', 'query_attrs_append', 'query_attrs_clear', 'raise_on_warnings', 'reconnect', 'reset_session', 'result_set_available', 'rollback', 'server_host', 'server_port', 'set_allow_local_infile_in_path', 'set_character_set_name', 'set_charset_collation', 'set_client_flags', 'set_converter_class', 'set_login', 'set_unicode', 'sql_mode', 'start_transaction', 'time_zone', 'unix_socket', 'unread_result', 'user', 'warning_count']\n"
     ]
    }
   ],
   "source": [
    "print(dir(db))"
   ]
  },
  {
   "cell_type": "code",
   "execution_count": 4,
   "metadata": {},
   "outputs": [
    {
     "name": "stdout",
     "output_type": "stream",
     "text": [
      "Help on CMySQLConnection in module mysql.connector.connection_cext object:\n",
      "\n",
      "class CMySQLConnection(mysql.connector.abstracts.MySQLConnectionAbstract)\n",
      " |  CMySQLConnection(**kwargs: Any) -> None\n",
      " |  \n",
      " |  Class initiating a MySQL Connection using Connector/C.\n",
      " |  \n",
      " |  Method resolution order:\n",
      " |      CMySQLConnection\n",
      " |      mysql.connector.abstracts.MySQLConnectionAbstract\n",
      " |      abc.ABC\n",
      " |      builtins.object\n",
      " |  \n",
      " |  Methods defined here:\n",
      " |  \n",
      " |  __init__(self, **kwargs: Any) -> None\n",
      " |      Initialization\n",
      " |  \n",
      " |  close(self) -> None\n",
      " |      Disconnect from the MySQL server\n",
      " |  \n",
      " |  cmd_change_user(self, username: str = '', password: str = '', database: str = '', charset: int = 45, password1: str = '', password2: str = '', password3: str = '', oci_config_file: Optional[str] = None) -> None\n",
      " |      Change the current logged in user\n",
      " |  \n",
      " |  cmd_debug(self) -> Any\n",
      " |      Send the DEBUG command\n",
      " |  \n",
      " |  cmd_init_db(self, database: str) -> None\n",
      " |      Change the current database\n",
      " |  \n",
      " |  cmd_ping(self) -> Any\n",
      " |      Send the PING command\n",
      " |  \n",
      " |  cmd_process_kill(self, mysql_pid: int) -> None\n",
      " |      Kill a MySQL process\n",
      " |  \n",
      " |  cmd_query(self, query: Union[str, bytes], raw: Optional[bool] = None, buffered: bool = False, raw_as_string: bool = False) -> Union[Dict[str, int], Dict[str, Union[Dict[str, int], List[Tuple[str, int, NoneType, NoneType, NoneType, NoneType, Union[bool, int], int, int]]]], NoneType]\n",
      " |      Send a query to the MySQL server\n",
      " |  \n",
      " |  cmd_query_iter(self, statements: Any) -> Any\n",
      " |      Send one or more statements to the MySQL server\n",
      " |  \n",
      " |  cmd_quit(self) -> None\n",
      " |      Close the current connection with the server\n",
      " |  \n",
      " |  cmd_refresh(self, options: int) -> Optional[Dict[str, int]]\n",
      " |      Send the Refresh command to the MySQL server\n",
      " |  \n",
      " |  cmd_reset_connection(self) -> bool\n",
      " |      Resets the session state without re-authenticating\n",
      " |      \n",
      " |      Reset command only works on MySQL server 5.7.3 or later.\n",
      " |      The result is True for a successful reset otherwise False.\n",
      " |      \n",
      " |      Returns bool\n",
      " |  \n",
      " |  cmd_shutdown(self, shutdown_type: Optional[int] = None) -> None\n",
      " |      Shut down the MySQL Server\n",
      " |  \n",
      " |  cmd_statistics(self) -> Dict[str, Union[int, decimal.Decimal]]\n",
      " |      Return statistics from the MySQL server\n",
      " |  \n",
      " |  cmd_stmt_close(self, statement_id: _mysql_connector.MySQLPrepStmt) -> None\n",
      " |      Closes the prepared statement\n",
      " |  \n",
      " |  cmd_stmt_execute(self, statement_id: _mysql_connector.MySQLPrepStmt, *args: Any) -> Union[Dict[str, int], Dict[str, Union[Dict[str, int], List[Tuple[str, int, NoneType, NoneType, NoneType, NoneType, Union[bool, int], int, int]]]], NoneType]\n",
      " |      Executes the prepared statement\n",
      " |  \n",
      " |  cmd_stmt_prepare(self, statement: bytes) -> _mysql_connector.MySQLPrepStmt\n",
      " |      Prepares the SQL statement\n",
      " |  \n",
      " |  cmd_stmt_reset(self, statement_id: _mysql_connector.MySQLPrepStmt) -> None\n",
      " |      Resets the prepared statement\n",
      " |  \n",
      " |  cmd_stmt_send_long_data(self, statement_id: Any, param_id: Any, data: Any) -> Any\n",
      " |      Send data for a column\n",
      " |  \n",
      " |  commit(self) -> None\n",
      " |      Commit current transaction\n",
      " |  \n",
      " |  consume_results(self) -> None\n",
      " |      Consume the current result\n",
      " |      \n",
      " |      This method consume the result by reading (consuming) all rows.\n",
      " |  \n",
      " |  cursor(self, buffered: Optional[bool] = None, raw: Optional[bool] = None, prepared: Optional[bool] = None, cursor_class: Optional[Type[mysql.connector.cursor_cext.CMySQLCursor]] = None, dictionary: Optional[bool] = None, named_tuple: Optional[bool] = None) -> mysql.connector.cursor_cext.CMySQLCursor\n",
      " |      Instantiates and returns a cursor using C Extension\n",
      " |      \n",
      " |      By default, CMySQLCursor is returned. Depending on the options\n",
      " |      while connecting, a buffered and/or raw cursor is instantiated\n",
      " |      instead. Also depending upon the cursor options, rows can be\n",
      " |      returned as dictionary or named tuple.\n",
      " |      \n",
      " |      Dictionary and namedtuple based cursors are available with buffered\n",
      " |      output but not raw.\n",
      " |      \n",
      " |      It is possible to also give a custom cursor through the\n",
      " |      cursor_class parameter, but it needs to be a subclass of\n",
      " |      mysql.connector.cursor_cext.CMySQLCursor.\n",
      " |      \n",
      " |      Raises ProgrammingError when cursor_class is not a subclass of\n",
      " |      CursorBase. Raises ValueError when cursor is not available.\n",
      " |      \n",
      " |      Returns instance of CMySQLCursor or subclass.\n",
      " |      \n",
      " |      :param buffered: Return a buffering cursor\n",
      " |      :param raw: Return a raw cursor\n",
      " |      :param prepared: Return a cursor which uses prepared statements\n",
      " |      :param cursor_class: Use a custom cursor class\n",
      " |      :param dictionary: Rows are returned as dictionary\n",
      " |      :param named_tuple: Rows are returned as named tuple\n",
      " |      :return: Subclass of CMySQLCursor\n",
      " |      :rtype: CMySQLCursor or subclass\n",
      " |  \n",
      " |  disconnect = close(self) -> None\n",
      " |  \n",
      " |  fetch_eof_columns(self, prep_stmt: Optional[_mysql_connector.MySQLPrepStmt] = None) -> Dict[str, Union[Dict[str, int], List[Tuple[str, int, NoneType, NoneType, NoneType, NoneType, Union[bool, int], int, int]]]]\n",
      " |      Fetch EOF and column information\n",
      " |  \n",
      " |  fetch_eof_status(self) -> Optional[Dict[str, int]]\n",
      " |      Fetch EOF and status information\n",
      " |  \n",
      " |  free_result(self) -> None\n",
      " |      Frees the result\n",
      " |  \n",
      " |  get_row(self, binary: bool = False, columns: Optional[List[Tuple[str, int, NoneType, NoneType, NoneType, NoneType, Union[bool, int], int, int]]] = None, raw: Optional[bool] = None, prep_stmt: Optional[_mysql_connector.MySQLPrepStmt] = None) -> Tuple[Optional[Tuple[Union[float, int, decimal.Decimal, str, bytes, datetime.date, datetime.timedelta, datetime.datetime, Set[str], NoneType], ...]], Dict[str, int]]\n",
      " |      Get the next rows returned by the MySQL server\n",
      " |  \n",
      " |  get_rows(self, count: Optional[int] = None, binary: bool = False, columns: Optional[List[Tuple[str, int, NoneType, NoneType, NoneType, NoneType, Union[bool, int], int, int]]] = None, raw: Optional[bool] = None, prep_stmt: Optional[_mysql_connector.MySQLPrepStmt] = None) -> Tuple[List[Tuple[Union[float, int, decimal.Decimal, str, bytes, datetime.date, datetime.timedelta, datetime.datetime, Set[str], NoneType], ...]], Optional[Dict[str, int]]]\n",
      " |      Get all or a subset of rows returned by the MySQL server\n",
      " |  \n",
      " |  handle_unread_result(self, prepared: bool = False) -> None\n",
      " |      Check whether there is an unread result\n",
      " |  \n",
      " |  info_query(self, query: Union[str, bytes]) -> Optional[Tuple[Union[float, int, decimal.Decimal, str, bytes, datetime.date, datetime.timedelta, datetime.datetime, Set[str], NoneType], ...]]\n",
      " |      Send a query which only returns 1 row\n",
      " |  \n",
      " |  is_closed(self) -> bool\n",
      " |      Return True if the connection to MySQL Server is closed.\n",
      " |  \n",
      " |  is_connected(self) -> bool\n",
      " |      Reports whether the connection to MySQL Server is available\n",
      " |  \n",
      " |  next_result(self) -> Optional[bool]\n",
      " |      Reads the next result\n",
      " |  \n",
      " |  ping(self, reconnect: bool = False, attempts: int = 1, delay: int = 0) -> None\n",
      " |      Check availability of the MySQL server\n",
      " |      \n",
      " |      When reconnect is set to True, one or more attempts are made to try\n",
      " |      to reconnect to the MySQL server using the reconnect()-method.\n",
      " |      \n",
      " |      delay is the number of seconds to wait between each retry.\n",
      " |      \n",
      " |      When the connection is not available, an InterfaceError is raised. Use\n",
      " |      the is_connected()-method if you just want to check the connection\n",
      " |      without raising an error.\n",
      " |      \n",
      " |      Raises InterfaceError on errors.\n",
      " |  \n",
      " |  prepare_for_mysql(self, params: Union[Dict[str, Union[int, float, decimal.Decimal, str, bytes, bool, datetime.datetime, datetime.date, datetime.time, time.struct_time, datetime.timedelta, NoneType]], Sequence[Union[int, float, decimal.Decimal, str, bytes, bool, datetime.datetime, datetime.date, datetime.time, time.struct_time, datetime.timedelta, NoneType]]]) -> Union[Sequence[bytes], Dict[str, bytes]]\n",
      " |      Prepare parameters for statements\n",
      " |      \n",
      " |      This method is use by cursors to prepared parameters found in the\n",
      " |      list (or tuple) params.\n",
      " |      \n",
      " |      Returns dict.\n",
      " |  \n",
      " |  reset_session(self, user_variables: Optional[Dict[str, Any]] = None, session_variables: Optional[Dict[str, Any]] = None) -> None\n",
      " |      Clears the current active session\n",
      " |      \n",
      " |      This method resets the session state, if the MySQL server is 5.7.3\n",
      " |      or later active session will be reset without re-authenticating.\n",
      " |      For other server versions session will be reset by re-authenticating.\n",
      " |      \n",
      " |      It is possible to provide a sequence of variables and their values to\n",
      " |      be set after clearing the session. This is possible for both user\n",
      " |      defined variables and session variables.\n",
      " |      This method takes two arguments user_variables and session_variables\n",
      " |      which are dictionaries.\n",
      " |      \n",
      " |      Raises OperationalError if not connected, InternalError if there are\n",
      " |      unread results and InterfaceError on errors.\n",
      " |  \n",
      " |  rollback(self) -> None\n",
      " |      Rollback current transaction\n",
      " |  \n",
      " |  set_allow_local_infile_in_path(self, path: str) -> None\n",
      " |      set local_infile_in_path\n",
      " |      \n",
      " |      Set allow_local_infile_in_path.\n",
      " |  \n",
      " |  set_character_set_name(self, charset: str) -> None\n",
      " |      Sets the default character set name for current connection.\n",
      " |  \n",
      " |  set_unicode(self, value: bool = True) -> None\n",
      " |      Toggle unicode mode\n",
      " |      \n",
      " |      Set whether we return string fields as unicode or not.\n",
      " |      Default is True.\n",
      " |  \n",
      " |  ----------------------------------------------------------------------\n",
      " |  Readonly properties defined here:\n",
      " |  \n",
      " |  connection_id\n",
      " |      MySQL connection ID\n",
      " |  \n",
      " |  in_transaction\n",
      " |      MySQL session has started a transaction\n",
      " |  \n",
      " |  more_results\n",
      " |      Check if there are more results\n",
      " |  \n",
      " |  num_rows\n",
      " |      Returns number of rows of current result set\n",
      " |  \n",
      " |  result_set_available\n",
      " |      Check if a result set is available\n",
      " |  \n",
      " |  unread_result\n",
      " |      Check if there are unread results or rows\n",
      " |  \n",
      " |  warning_count\n",
      " |      Returns number of warnings\n",
      " |  \n",
      " |  ----------------------------------------------------------------------\n",
      " |  Data descriptors defined here:\n",
      " |  \n",
      " |  autocommit\n",
      " |      Get whether autocommit is on or off\n",
      " |  \n",
      " |  database\n",
      " |      Get the current database\n",
      " |  \n",
      " |  ----------------------------------------------------------------------\n",
      " |  Data and other attributes defined here:\n",
      " |  \n",
      " |  __abstractmethods__ = frozenset()\n",
      " |  \n",
      " |  __annotations__ = {}\n",
      " |  \n",
      " |  ----------------------------------------------------------------------\n",
      " |  Methods inherited from mysql.connector.abstracts.MySQLConnectionAbstract:\n",
      " |  \n",
      " |  __enter__(self) -> 'MySQLConnectionAbstract'\n",
      " |  \n",
      " |  __exit__(self, exc_type: 'Type[BaseException]', exc_value: 'BaseException', traceback: 'TracebackType') -> 'None'\n",
      " |  \n",
      " |  config(self, **kwargs: 'Any') -> 'None'\n",
      " |      Configure the MySQL Connection\n",
      " |      \n",
      " |      This method allows you to configure the MySQLConnection instance.\n",
      " |      \n",
      " |      Raises on errors.\n",
      " |  \n",
      " |  connect(self, **kwargs: 'Any') -> 'None'\n",
      " |      Connect to the MySQL server\n",
      " |      \n",
      " |      This method sets up the connection to the MySQL server. If no\n",
      " |      arguments are given, it will use the already configured or default\n",
      " |      values.\n",
      " |  \n",
      " |  get_self(self) -> 'MySQLConnectionAbstract'\n",
      " |      Return self for weakref.proxy\n",
      " |      \n",
      " |      This method is used when the original object is needed when using\n",
      " |      weakref.proxy.\n",
      " |  \n",
      " |  get_server_info(self) -> 'Optional[str]'\n",
      " |      Get the original MySQL version information\n",
      " |      \n",
      " |      This method returns the original MySQL server as text. If not\n",
      " |      previously connected, it will return None.\n",
      " |      \n",
      " |      Returns a string or None.\n",
      " |  \n",
      " |  get_server_version(self) -> 'Tuple[int, ...]'\n",
      " |      Get the MySQL version\n",
      " |      \n",
      " |      This method returns the MySQL server version as a tuple. If not\n",
      " |      previously connected, it will return None.\n",
      " |      \n",
      " |      Returns a tuple or None.\n",
      " |  \n",
      " |  isset_client_flag(self, flag: 'int') -> 'bool'\n",
      " |      Check if a client flag is set\n",
      " |  \n",
      " |  query_attrs_append(self, value: 'Tuple[str, SupportedMysqlBinaryProtocolTypes]') -> 'None'\n",
      " |      Add element to the query attributes list.\n",
      " |  \n",
      " |  query_attrs_clear(self) -> 'None'\n",
      " |      Clear query attributes list.\n",
      " |  \n",
      " |  reconnect(self, attempts: 'int' = 1, delay: 'int' = 0) -> 'None'\n",
      " |      Attempt to reconnect to the MySQL server\n",
      " |      \n",
      " |      The argument attempts should be the number of times a reconnect\n",
      " |      is tried. The delay argument is the number of seconds to wait between\n",
      " |      each retry.\n",
      " |      \n",
      " |      You may want to set the number of attempts higher and use delay when\n",
      " |      you expect the MySQL server to be down for maintenance or when you\n",
      " |      expect the network to be temporary unavailable.\n",
      " |      \n",
      " |      Raises InterfaceError on errors.\n",
      " |  \n",
      " |  set_charset_collation(self, charset: 'Optional[Union[int, str]]' = None, collation: 'Optional[str]' = None) -> 'None'\n",
      " |      Sets the character set and collation for the current connection\n",
      " |      \n",
      " |      This method sets the character set and collation to be used for\n",
      " |      the current connection. The charset argument can be either the\n",
      " |      name of a character set as a string, or the numerical equivalent\n",
      " |      as defined in constants.CharacterSet.\n",
      " |      \n",
      " |      When the collation is not given, the default will be looked up and\n",
      " |      used.\n",
      " |      \n",
      " |      For example, the following will set the collation for the latin1\n",
      " |      character set to latin1_general_ci:\n",
      " |      \n",
      " |         set_charset('latin1','latin1_general_ci')\n",
      " |  \n",
      " |  set_client_flags(self, flags: 'Union[int, Sequence[int]]') -> 'int'\n",
      " |      Set the client flags\n",
      " |      \n",
      " |      The flags-argument can be either an int or a list (or tuple) of\n",
      " |      ClientFlag-values. If it is an integer, it will set client_flags\n",
      " |      to flags as is.\n",
      " |      If flags is a list (or tuple), each flag will be set or unset\n",
      " |      when it's negative.\n",
      " |      \n",
      " |      set_client_flags([ClientFlag.FOUND_ROWS,-ClientFlag.LONG_FLAG])\n",
      " |      \n",
      " |      Raises ProgrammingError when the flags argument is not a set or\n",
      " |      an integer bigger than 0.\n",
      " |      \n",
      " |      Returns self.client_flags\n",
      " |  \n",
      " |  set_converter_class(self, convclass: 'Optional[Type[MySQLConverter]]') -> 'None'\n",
      " |      Set the converter class to be used. This should be a class overloading\n",
      " |      methods and members of conversion.MySQLConverter.\n",
      " |  \n",
      " |  set_login(self, username: 'Optional[str]' = None, password: 'Optional[str]' = None) -> 'None'\n",
      " |      Set login information for MySQL\n",
      " |      \n",
      " |      Set the username and/or password for the user connecting to\n",
      " |      the MySQL Server.\n",
      " |  \n",
      " |  start_transaction(self, consistent_snapshot: 'bool' = False, isolation_level: 'Optional[str]' = None, readonly: 'Optional[bool]' = None) -> 'None'\n",
      " |      Start a transaction\n",
      " |      \n",
      " |      This method explicitly starts a transaction sending the\n",
      " |      START TRANSACTION statement to the MySQL server. You can optionally\n",
      " |      set whether there should be a consistent snapshot, which\n",
      " |      isolation level you need or which access mode i.e. READ ONLY or\n",
      " |      READ WRITE.\n",
      " |      \n",
      " |      For example, to start a transaction with isolation level SERIALIZABLE,\n",
      " |      you would do the following:\n",
      " |          >>> cnx = mysql.connector.connect(..)\n",
      " |          >>> cnx.start_transaction(isolation_level='SERIALIZABLE')\n",
      " |      \n",
      " |      Raises ProgrammingError when a transaction is already in progress\n",
      " |      and when ValueError when isolation_level specifies an Unknown\n",
      " |      level.\n",
      " |  \n",
      " |  ----------------------------------------------------------------------\n",
      " |  Static methods inherited from mysql.connector.abstracts.MySQLConnectionAbstract:\n",
      " |  \n",
      " |  cmd_process_info() -> 'Any'\n",
      " |      Get the process list of the MySQL Server\n",
      " |      \n",
      " |      This method is a placeholder to notify that the PROCESS_INFO command\n",
      " |      is not supported by raising the NotSupportedError. The command\n",
      " |      \"SHOW PROCESSLIST\" should be send using the cmd_query()-method or\n",
      " |      using the INFORMATION_SCHEMA database.\n",
      " |      \n",
      " |      Raises NotSupportedError exception\n",
      " |  \n",
      " |  ----------------------------------------------------------------------\n",
      " |  Readonly properties inherited from mysql.connector.abstracts.MySQLConnectionAbstract:\n",
      " |  \n",
      " |  charset\n",
      " |      Returns the character set for current connection\n",
      " |      \n",
      " |      This property returns the character set name of the current connection.\n",
      " |      The server is queried when the connection is active. If not connected,\n",
      " |      the configured character set name is returned.\n",
      " |      \n",
      " |      Returns a string.\n",
      " |  \n",
      " |  collation\n",
      " |      Returns the collation for current connection\n",
      " |      \n",
      " |      This property returns the collation name of the current connection.\n",
      " |      The server is queried when the connection is active. If not connected,\n",
      " |      the configured collation name is returned.\n",
      " |      \n",
      " |      Returns a string.\n",
      " |  \n",
      " |  have_next_result\n",
      " |      Return if have next result.\n",
      " |  \n",
      " |  is_secure\n",
      " |      Return True if is a secure connection.\n",
      " |  \n",
      " |  python_charset\n",
      " |      Returns the Python character set for current connection\n",
      " |      \n",
      " |      This property returns the character set name of the current connection.\n",
      " |      Note that, unlike property charset, this checks if the previously set\n",
      " |      character set is supported by Python and if not, it returns the\n",
      " |      equivalent character set that Python supports.\n",
      " |      \n",
      " |      Returns a string.\n",
      " |  \n",
      " |  query_attrs\n",
      " |      Return query attributes list.\n",
      " |  \n",
      " |  server_host\n",
      " |      MySQL server IP address or name\n",
      " |  \n",
      " |  server_port\n",
      " |      MySQL server TCP/IP port\n",
      " |  \n",
      " |  unix_socket\n",
      " |      MySQL Unix socket file location\n",
      " |  \n",
      " |  user\n",
      " |      User used while connecting to MySQL\n",
      " |  \n",
      " |  ----------------------------------------------------------------------\n",
      " |  Data descriptors inherited from mysql.connector.abstracts.MySQLConnectionAbstract:\n",
      " |  \n",
      " |  __dict__\n",
      " |      dictionary for instance variables (if defined)\n",
      " |  \n",
      " |  __weakref__\n",
      " |      list of weak references to the object (if defined)\n",
      " |  \n",
      " |  can_consume_results\n",
      " |      Returns whether to consume results\n",
      " |  \n",
      " |  get_warnings\n",
      " |      Get whether this connection retrieves warnings automatically\n",
      " |      \n",
      " |      This method returns whether this connection retrieves warnings\n",
      " |      automatically.\n",
      " |      \n",
      " |      Returns True, or False when warnings are not retrieved.\n",
      " |  \n",
      " |  pool_config_version\n",
      " |      Return the pool configuration version\n",
      " |  \n",
      " |  raise_on_warnings\n",
      " |      Get whether this connection raises an error on warnings\n",
      " |      \n",
      " |      This method returns whether this connection will raise errors when\n",
      " |      MySQL reports warnings.\n",
      " |      \n",
      " |      Returns True or False.\n",
      " |  \n",
      " |  sql_mode\n",
      " |      Get the SQL mode\n",
      " |  \n",
      " |  time_zone\n",
      " |      Get the current time zone\n",
      "\n"
     ]
    }
   ],
   "source": [
    "help(db)"
   ]
  },
  {
   "cell_type": "code",
   "execution_count": 5,
   "metadata": {},
   "outputs": [
    {
     "data": {
      "text/plain": [
       "'127.0.0.1'"
      ]
     },
     "execution_count": 5,
     "metadata": {},
     "output_type": "execute_result"
    }
   ],
   "source": [
    "db._host"
   ]
  },
  {
   "cell_type": "code",
   "execution_count": 6,
   "metadata": {},
   "outputs": [
    {
     "data": {
      "text/plain": [
       "''"
      ]
     },
     "execution_count": 6,
     "metadata": {},
     "output_type": "execute_result"
    }
   ],
   "source": [
    "db.user"
   ]
  },
  {
   "cell_type": "code",
   "execution_count": 8,
   "metadata": {},
   "outputs": [],
   "source": [
    "db = sql.connect(host='localhost', user='root', password='admin', database='world')"
   ]
  },
  {
   "cell_type": "code",
   "execution_count": 9,
   "metadata": {},
   "outputs": [],
   "source": [
    "cur = db.cursor()"
   ]
  },
  {
   "cell_type": "code",
   "execution_count": 10,
   "metadata": {},
   "outputs": [],
   "source": [
    "cur.execute('show tables;')"
   ]
  },
  {
   "cell_type": "code",
   "execution_count": 11,
   "metadata": {},
   "outputs": [
    {
     "data": {
      "text/plain": [
       "[('city',), ('country',), ('countrylanguage',), ('users',)]"
      ]
     },
     "execution_count": 11,
     "metadata": {},
     "output_type": "execute_result"
    }
   ],
   "source": [
    "cur.fetchall()"
   ]
  },
  {
   "cell_type": "code",
   "execution_count": 12,
   "metadata": {},
   "outputs": [],
   "source": [
    "cur.execute('show databases;')"
   ]
  },
  {
   "cell_type": "code",
   "execution_count": 13,
   "metadata": {},
   "outputs": [
    {
     "data": {
      "text/plain": [
       "[('data_analytic',),\n",
       " ('information_schema',),\n",
       " ('kush_db',),\n",
       " ('logicrays',),\n",
       " ('meet',),\n",
       " ('my_sql_session',),\n",
       " ('mysql',),\n",
       " ('mysql_python',),\n",
       " ('new_sql_db',),\n",
       " ('pandasql',),\n",
       " ('performance_schema',),\n",
       " ('pratap',),\n",
       " ('python_530',),\n",
       " ('sakila',),\n",
       " ('sys',),\n",
       " ('univercity',),\n",
       " ('world',)]"
      ]
     },
     "execution_count": 13,
     "metadata": {},
     "output_type": "execute_result"
    }
   ],
   "source": [
    "cur.fetchall()"
   ]
  },
  {
   "cell_type": "code",
   "execution_count": 14,
   "metadata": {},
   "outputs": [],
   "source": [
    "cur.execute('create database mypythondb;')"
   ]
  },
  {
   "cell_type": "code",
   "execution_count": 15,
   "metadata": {},
   "outputs": [
    {
     "data": {
      "text/plain": [
       "[]"
      ]
     },
     "execution_count": 15,
     "metadata": {},
     "output_type": "execute_result"
    }
   ],
   "source": [
    "cur.fetchall()"
   ]
  },
  {
   "cell_type": "code",
   "execution_count": 16,
   "metadata": {},
   "outputs": [],
   "source": [
    "cur.execute('show databases;')"
   ]
  },
  {
   "cell_type": "code",
   "execution_count": 17,
   "metadata": {},
   "outputs": [
    {
     "data": {
      "text/plain": [
       "[('data_analytic',),\n",
       " ('information_schema',),\n",
       " ('kush_db',),\n",
       " ('logicrays',),\n",
       " ('meet',),\n",
       " ('my_sql_session',),\n",
       " ('mypythondb',),\n",
       " ('mysql',),\n",
       " ('mysql_python',),\n",
       " ('new_sql_db',),\n",
       " ('pandasql',),\n",
       " ('performance_schema',),\n",
       " ('pratap',),\n",
       " ('python_530',),\n",
       " ('sakila',),\n",
       " ('sys',),\n",
       " ('univercity',),\n",
       " ('world',)]"
      ]
     },
     "execution_count": 17,
     "metadata": {},
     "output_type": "execute_result"
    }
   ],
   "source": [
    "cur.fetchall()"
   ]
  },
  {
   "cell_type": "code",
   "execution_count": 18,
   "metadata": {},
   "outputs": [],
   "source": [
    "cur.execute('use mypythondb;')"
   ]
  },
  {
   "cell_type": "code",
   "execution_count": 19,
   "metadata": {},
   "outputs": [
    {
     "data": {
      "text/plain": [
       "'mypythondb'"
      ]
     },
     "execution_count": 19,
     "metadata": {},
     "output_type": "execute_result"
    }
   ],
   "source": [
    "db.database"
   ]
  },
  {
   "cell_type": "code",
   "execution_count": 20,
   "metadata": {},
   "outputs": [],
   "source": [
    "cur.execute('show tables;')"
   ]
  },
  {
   "cell_type": "code",
   "execution_count": 21,
   "metadata": {},
   "outputs": [
    {
     "data": {
      "text/plain": [
       "[]"
      ]
     },
     "execution_count": 21,
     "metadata": {},
     "output_type": "execute_result"
    }
   ],
   "source": [
    "cur.fetchall()"
   ]
  },
  {
   "cell_type": "code",
   "execution_count": 22,
   "metadata": {},
   "outputs": [],
   "source": [
    "cur.execute('show databases;')"
   ]
  },
  {
   "cell_type": "code",
   "execution_count": 23,
   "metadata": {},
   "outputs": [
    {
     "data": {
      "text/plain": [
       "[('data_analytic',),\n",
       " ('information_schema',),\n",
       " ('kush_db',),\n",
       " ('logicrays',),\n",
       " ('meet',),\n",
       " ('my_sql_session',),\n",
       " ('mypythondb',),\n",
       " ('mysql',),\n",
       " ('mysql_python',),\n",
       " ('new_sql_db',),\n",
       " ('pandasql',),\n",
       " ('performance_schema',),\n",
       " ('pratap',),\n",
       " ('python_530',),\n",
       " ('sakila',),\n",
       " ('sys',),\n",
       " ('univercity',),\n",
       " ('world',)]"
      ]
     },
     "execution_count": 23,
     "metadata": {},
     "output_type": "execute_result"
    }
   ],
   "source": [
    "cur.fetchall()"
   ]
  },
  {
   "cell_type": "code",
   "execution_count": 24,
   "metadata": {},
   "outputs": [
    {
     "data": {
      "text/plain": [
       "[]"
      ]
     },
     "execution_count": 24,
     "metadata": {},
     "output_type": "execute_result"
    }
   ],
   "source": [
    "cur.fetchall()"
   ]
  },
  {
   "cell_type": "code",
   "execution_count": 25,
   "metadata": {},
   "outputs": [],
   "source": [
    "data = [\n",
    "    {\n",
    "        'name': 'krupesh',\n",
    "        'city': 'ahmedabad'\n",
    "    },\n",
    "    {\n",
    "        'name': 'mittul',\n",
    "        'city': 'ahmedabad'\n",
    "    },\n",
    "    {\n",
    "        'name': 'kapil',\n",
    "        'city': 'ajmer'\n",
    "    }\n",
    "]"
   ]
  },
  {
   "cell_type": "code",
   "execution_count": 26,
   "metadata": {},
   "outputs": [
    {
     "name": "stdout",
     "output_type": "stream",
     "text": [
      "3\n"
     ]
    }
   ],
   "source": [
    "n = 0\n",
    "for d in data:\n",
    "    n+=1\n",
    "else:\n",
    "    print(n)"
   ]
  },
  {
   "cell_type": "code",
   "execution_count": 28,
   "metadata": {},
   "outputs": [
    {
     "name": "stdout",
     "output_type": "stream",
     "text": [
      "insert into tbl_name('id', 'name', 'city') values(1, 'krupesh', 'ahmedabad');\n",
      "insert into tbl_name('id', 'name', 'city') values(2, 'mittul', 'ahmedabad');\n",
      "insert into tbl_name('id', 'name', 'city') values(3, 'kapil', 'ajmer');\n"
     ]
    }
   ],
   "source": [
    "n = 0\n",
    "for d in data:\n",
    "    n+=1\n",
    "    \n",
    "    keys = list(d.keys())\n",
    "    keys.insert(0, 'id')\n",
    "    keys = tuple(keys)\n",
    "    \n",
    "    vals = list(d.values())\n",
    "    vals.insert(0, n)\n",
    "    vals = tuple(vals)\n",
    "    \n",
    "    cmd = f'''insert into tbl_name{keys} values{vals};'''\n",
    "    print(cmd)"
   ]
  },
  {
   "cell_type": "code",
   "execution_count": 29,
   "metadata": {},
   "outputs": [],
   "source": [
    "cur.execute('create table users(id int, name varchar(25), city varchar(25));')"
   ]
  },
  {
   "cell_type": "code",
   "execution_count": 30,
   "metadata": {},
   "outputs": [],
   "source": [
    "cur.execute('show tables;')"
   ]
  },
  {
   "cell_type": "code",
   "execution_count": 31,
   "metadata": {},
   "outputs": [
    {
     "data": {
      "text/plain": [
       "[('users',)]"
      ]
     },
     "execution_count": 31,
     "metadata": {},
     "output_type": "execute_result"
    }
   ],
   "source": [
    "cur.fetchall()"
   ]
  },
  {
   "cell_type": "code",
   "execution_count": 32,
   "metadata": {},
   "outputs": [
    {
     "ename": "ProgrammingError",
     "evalue": "1064 (42000): You have an error in your SQL syntax; check the manual that corresponds to your MySQL server version for the right syntax to use near ''id', 'name', 'city') values(1, 'krupesh', 'ahmedabad')' at line 1",
     "output_type": "error",
     "traceback": [
      "\u001b[1;31m---------------------------------------------------------------------------\u001b[0m",
      "\u001b[1;31mMySQLInterfaceError\u001b[0m                       Traceback (most recent call last)",
      "File \u001b[1;32m~\\AppData\\Local\\Programs\\Python\\Python311\\Lib\\site-packages\\mysql\\connector\\connection_cext.py:608\u001b[0m, in \u001b[0;36mCMySQLConnection.cmd_query\u001b[1;34m(self, query, raw, buffered, raw_as_string)\u001b[0m\n\u001b[0;32m    607\u001b[0m         query \u001b[38;5;241m=\u001b[39m query\u001b[38;5;241m.\u001b[39mencode(\u001b[38;5;124m\"\u001b[39m\u001b[38;5;124mutf-8\u001b[39m\u001b[38;5;124m\"\u001b[39m)\n\u001b[1;32m--> 608\u001b[0m     \u001b[38;5;28;43mself\u001b[39;49m\u001b[38;5;241;43m.\u001b[39;49m\u001b[43m_cmysql\u001b[49m\u001b[38;5;241;43m.\u001b[39;49m\u001b[43mquery\u001b[49m\u001b[43m(\u001b[49m\n\u001b[0;32m    609\u001b[0m \u001b[43m        \u001b[49m\u001b[43mquery\u001b[49m\u001b[43m,\u001b[49m\n\u001b[0;32m    610\u001b[0m \u001b[43m        \u001b[49m\u001b[43mraw\u001b[49m\u001b[38;5;241;43m=\u001b[39;49m\u001b[43mraw\u001b[49m\u001b[43m,\u001b[49m\n\u001b[0;32m    611\u001b[0m \u001b[43m        \u001b[49m\u001b[43mbuffered\u001b[49m\u001b[38;5;241;43m=\u001b[39;49m\u001b[43mbuffered\u001b[49m\u001b[43m,\u001b[49m\n\u001b[0;32m    612\u001b[0m \u001b[43m        \u001b[49m\u001b[43mraw_as_string\u001b[49m\u001b[38;5;241;43m=\u001b[39;49m\u001b[43mraw_as_string\u001b[49m\u001b[43m,\u001b[49m\n\u001b[0;32m    613\u001b[0m \u001b[43m        \u001b[49m\u001b[43mquery_attrs\u001b[49m\u001b[38;5;241;43m=\u001b[39;49m\u001b[38;5;28;43mself\u001b[39;49m\u001b[38;5;241;43m.\u001b[39;49m\u001b[43m_query_attrs\u001b[49m\u001b[43m,\u001b[49m\n\u001b[0;32m    614\u001b[0m \u001b[43m    \u001b[49m\u001b[43m)\u001b[49m\n\u001b[0;32m    615\u001b[0m \u001b[38;5;28;01mexcept\u001b[39;00m MySQLInterfaceError \u001b[38;5;28;01mas\u001b[39;00m err:\n",
      "\u001b[1;31mMySQLInterfaceError\u001b[0m: You have an error in your SQL syntax; check the manual that corresponds to your MySQL server version for the right syntax to use near ''id', 'name', 'city') values(1, 'krupesh', 'ahmedabad')' at line 1",
      "\nThe above exception was the direct cause of the following exception:\n",
      "\u001b[1;31mProgrammingError\u001b[0m                          Traceback (most recent call last)",
      "Cell \u001b[1;32mIn[32], line 14\u001b[0m\n\u001b[0;32m     11\u001b[0m     vals \u001b[38;5;241m=\u001b[39m \u001b[38;5;28mtuple\u001b[39m(vals)\n\u001b[0;32m     13\u001b[0m     cmd \u001b[38;5;241m=\u001b[39m \u001b[38;5;124mf\u001b[39m\u001b[38;5;124m'''\u001b[39m\u001b[38;5;124minsert into tbl_name\u001b[39m\u001b[38;5;132;01m{\u001b[39;00mkeys\u001b[38;5;132;01m}\u001b[39;00m\u001b[38;5;124m values\u001b[39m\u001b[38;5;132;01m{\u001b[39;00mvals\u001b[38;5;132;01m}\u001b[39;00m\u001b[38;5;124m;\u001b[39m\u001b[38;5;124m'''\u001b[39m\n\u001b[1;32m---> 14\u001b[0m     \u001b[43mcur\u001b[49m\u001b[38;5;241;43m.\u001b[39;49m\u001b[43mexecute\u001b[49m\u001b[43m(\u001b[49m\u001b[43mcmd\u001b[49m\u001b[43m)\u001b[49m\n\u001b[0;32m     15\u001b[0m \u001b[38;5;28;01melse\u001b[39;00m:\n\u001b[0;32m     16\u001b[0m     db\u001b[38;5;241m.\u001b[39mcommit()\n",
      "File \u001b[1;32m~\\AppData\\Local\\Programs\\Python\\Python311\\Lib\\site-packages\\mysql\\connector\\cursor_cext.py:330\u001b[0m, in \u001b[0;36mCMySQLCursor.execute\u001b[1;34m(self, operation, params, multi)\u001b[0m\n\u001b[0;32m    325\u001b[0m             \u001b[38;5;28;01mraise\u001b[39;00m ProgrammingError(\n\u001b[0;32m    326\u001b[0m                 \u001b[38;5;124m\"\u001b[39m\u001b[38;5;124mNot all parameters were used in the SQL statement\u001b[39m\u001b[38;5;124m\"\u001b[39m\n\u001b[0;32m    327\u001b[0m             )\n\u001b[0;32m    329\u001b[0m \u001b[38;5;28;01mtry\u001b[39;00m:\n\u001b[1;32m--> 330\u001b[0m     result \u001b[38;5;241m=\u001b[39m \u001b[38;5;28;43mself\u001b[39;49m\u001b[38;5;241;43m.\u001b[39;49m\u001b[43m_cnx\u001b[49m\u001b[38;5;241;43m.\u001b[39;49m\u001b[43mcmd_query\u001b[49m\u001b[43m(\u001b[49m\n\u001b[0;32m    331\u001b[0m \u001b[43m        \u001b[49m\u001b[43mstmt\u001b[49m\u001b[43m,\u001b[49m\n\u001b[0;32m    332\u001b[0m \u001b[43m        \u001b[49m\u001b[43mraw\u001b[49m\u001b[38;5;241;43m=\u001b[39;49m\u001b[38;5;28;43mself\u001b[39;49m\u001b[38;5;241;43m.\u001b[39;49m\u001b[43m_raw\u001b[49m\u001b[43m,\u001b[49m\n\u001b[0;32m    333\u001b[0m \u001b[43m        \u001b[49m\u001b[43mbuffered\u001b[49m\u001b[38;5;241;43m=\u001b[39;49m\u001b[38;5;28;43mself\u001b[39;49m\u001b[38;5;241;43m.\u001b[39;49m\u001b[43m_buffered\u001b[49m\u001b[43m,\u001b[49m\n\u001b[0;32m    334\u001b[0m \u001b[43m        \u001b[49m\u001b[43mraw_as_string\u001b[49m\u001b[38;5;241;43m=\u001b[39;49m\u001b[38;5;28;43mself\u001b[39;49m\u001b[38;5;241;43m.\u001b[39;49m\u001b[43m_raw_as_string\u001b[49m\u001b[43m,\u001b[49m\n\u001b[0;32m    335\u001b[0m \u001b[43m    \u001b[49m\u001b[43m)\u001b[49m\n\u001b[0;32m    336\u001b[0m \u001b[38;5;28;01mexcept\u001b[39;00m MySQLInterfaceError \u001b[38;5;28;01mas\u001b[39;00m err:\n\u001b[0;32m    337\u001b[0m     \u001b[38;5;28;01mraise\u001b[39;00m get_mysql_exception(\n\u001b[0;32m    338\u001b[0m         msg\u001b[38;5;241m=\u001b[39merr\u001b[38;5;241m.\u001b[39mmsg, errno\u001b[38;5;241m=\u001b[39merr\u001b[38;5;241m.\u001b[39merrno, sqlstate\u001b[38;5;241m=\u001b[39merr\u001b[38;5;241m.\u001b[39msqlstate\n\u001b[0;32m    339\u001b[0m     ) \u001b[38;5;28;01mfrom\u001b[39;00m \u001b[38;5;21;01merr\u001b[39;00m\n",
      "File \u001b[1;32m~\\AppData\\Local\\Programs\\Python\\Python311\\Lib\\site-packages\\mysql\\connector\\connection_cext.py:616\u001b[0m, in \u001b[0;36mCMySQLConnection.cmd_query\u001b[1;34m(self, query, raw, buffered, raw_as_string)\u001b[0m\n\u001b[0;32m    608\u001b[0m     \u001b[38;5;28mself\u001b[39m\u001b[38;5;241m.\u001b[39m_cmysql\u001b[38;5;241m.\u001b[39mquery(\n\u001b[0;32m    609\u001b[0m         query,\n\u001b[0;32m    610\u001b[0m         raw\u001b[38;5;241m=\u001b[39mraw,\n\u001b[1;32m   (...)\u001b[0m\n\u001b[0;32m    613\u001b[0m         query_attrs\u001b[38;5;241m=\u001b[39m\u001b[38;5;28mself\u001b[39m\u001b[38;5;241m.\u001b[39m_query_attrs,\n\u001b[0;32m    614\u001b[0m     )\n\u001b[0;32m    615\u001b[0m \u001b[38;5;28;01mexcept\u001b[39;00m MySQLInterfaceError \u001b[38;5;28;01mas\u001b[39;00m err:\n\u001b[1;32m--> 616\u001b[0m     \u001b[38;5;28;01mraise\u001b[39;00m get_mysql_exception(\n\u001b[0;32m    617\u001b[0m         err\u001b[38;5;241m.\u001b[39merrno, msg\u001b[38;5;241m=\u001b[39merr\u001b[38;5;241m.\u001b[39mmsg, sqlstate\u001b[38;5;241m=\u001b[39merr\u001b[38;5;241m.\u001b[39msqlstate\n\u001b[0;32m    618\u001b[0m     ) \u001b[38;5;28;01mfrom\u001b[39;00m \u001b[38;5;21;01merr\u001b[39;00m\n\u001b[0;32m    619\u001b[0m \u001b[38;5;28;01mexcept\u001b[39;00m \u001b[38;5;167;01mAttributeError\u001b[39;00m \u001b[38;5;28;01mas\u001b[39;00m err:\n\u001b[0;32m    620\u001b[0m     addr \u001b[38;5;241m=\u001b[39m (\n\u001b[0;32m    621\u001b[0m         \u001b[38;5;28mself\u001b[39m\u001b[38;5;241m.\u001b[39m_unix_socket \u001b[38;5;28;01mif\u001b[39;00m \u001b[38;5;28mself\u001b[39m\u001b[38;5;241m.\u001b[39m_unix_socket \u001b[38;5;28;01melse\u001b[39;00m \u001b[38;5;124mf\u001b[39m\u001b[38;5;124m\"\u001b[39m\u001b[38;5;132;01m{\u001b[39;00m\u001b[38;5;28mself\u001b[39m\u001b[38;5;241m.\u001b[39m_host\u001b[38;5;132;01m}\u001b[39;00m\u001b[38;5;124m:\u001b[39m\u001b[38;5;132;01m{\u001b[39;00m\u001b[38;5;28mself\u001b[39m\u001b[38;5;241m.\u001b[39m_port\u001b[38;5;132;01m}\u001b[39;00m\u001b[38;5;124m\"\u001b[39m\n\u001b[0;32m    622\u001b[0m     )\n",
      "\u001b[1;31mProgrammingError\u001b[0m: 1064 (42000): You have an error in your SQL syntax; check the manual that corresponds to your MySQL server version for the right syntax to use near ''id', 'name', 'city') values(1, 'krupesh', 'ahmedabad')' at line 1"
     ]
    }
   ],
   "source": [
    "n = 0\n",
    "for d in data:\n",
    "    n+=1\n",
    "    \n",
    "    keys = list(d.keys())\n",
    "    keys.insert(0, 'id')\n",
    "    keys = tuple(keys)\n",
    "    \n",
    "    vals = list(d.values())\n",
    "    vals.insert(0, n)\n",
    "    vals = tuple(vals)\n",
    "    \n",
    "    cmd = f'''insert into tbl_name{keys} values{vals};'''\n",
    "    cur.execute(cmd)\n",
    "else:\n",
    "    db.commit()"
   ]
  },
  {
   "cell_type": "code",
   "execution_count": 33,
   "metadata": {},
   "outputs": [],
   "source": [
    "cur.execute('desc users;')"
   ]
  },
  {
   "cell_type": "code",
   "execution_count": 34,
   "metadata": {},
   "outputs": [
    {
     "data": {
      "text/plain": [
       "[('id', b'int', 'YES', '', None, ''),\n",
       " ('name', b'varchar(25)', 'YES', '', None, ''),\n",
       " ('city', b'varchar(25)', 'YES', '', None, '')]"
      ]
     },
     "execution_count": 34,
     "metadata": {},
     "output_type": "execute_result"
    }
   ],
   "source": [
    "cur.fetchall()"
   ]
  },
  {
   "cell_type": "code",
   "execution_count": 35,
   "metadata": {},
   "outputs": [
    {
     "ename": "ProgrammingError",
     "evalue": "1064 (42000): You have an error in your SQL syntax; check the manual that corresponds to your MySQL server version for the right syntax to use near ''id', 'name', 'city') values(1, 'krupesh', 'ahmedabad')' at line 1",
     "output_type": "error",
     "traceback": [
      "\u001b[1;31m---------------------------------------------------------------------------\u001b[0m",
      "\u001b[1;31mMySQLInterfaceError\u001b[0m                       Traceback (most recent call last)",
      "File \u001b[1;32m~\\AppData\\Local\\Programs\\Python\\Python311\\Lib\\site-packages\\mysql\\connector\\connection_cext.py:608\u001b[0m, in \u001b[0;36mCMySQLConnection.cmd_query\u001b[1;34m(self, query, raw, buffered, raw_as_string)\u001b[0m\n\u001b[0;32m    607\u001b[0m         query \u001b[38;5;241m=\u001b[39m query\u001b[38;5;241m.\u001b[39mencode(\u001b[38;5;124m\"\u001b[39m\u001b[38;5;124mutf-8\u001b[39m\u001b[38;5;124m\"\u001b[39m)\n\u001b[1;32m--> 608\u001b[0m     \u001b[38;5;28;43mself\u001b[39;49m\u001b[38;5;241;43m.\u001b[39;49m\u001b[43m_cmysql\u001b[49m\u001b[38;5;241;43m.\u001b[39;49m\u001b[43mquery\u001b[49m\u001b[43m(\u001b[49m\n\u001b[0;32m    609\u001b[0m \u001b[43m        \u001b[49m\u001b[43mquery\u001b[49m\u001b[43m,\u001b[49m\n\u001b[0;32m    610\u001b[0m \u001b[43m        \u001b[49m\u001b[43mraw\u001b[49m\u001b[38;5;241;43m=\u001b[39;49m\u001b[43mraw\u001b[49m\u001b[43m,\u001b[49m\n\u001b[0;32m    611\u001b[0m \u001b[43m        \u001b[49m\u001b[43mbuffered\u001b[49m\u001b[38;5;241;43m=\u001b[39;49m\u001b[43mbuffered\u001b[49m\u001b[43m,\u001b[49m\n\u001b[0;32m    612\u001b[0m \u001b[43m        \u001b[49m\u001b[43mraw_as_string\u001b[49m\u001b[38;5;241;43m=\u001b[39;49m\u001b[43mraw_as_string\u001b[49m\u001b[43m,\u001b[49m\n\u001b[0;32m    613\u001b[0m \u001b[43m        \u001b[49m\u001b[43mquery_attrs\u001b[49m\u001b[38;5;241;43m=\u001b[39;49m\u001b[38;5;28;43mself\u001b[39;49m\u001b[38;5;241;43m.\u001b[39;49m\u001b[43m_query_attrs\u001b[49m\u001b[43m,\u001b[49m\n\u001b[0;32m    614\u001b[0m \u001b[43m    \u001b[49m\u001b[43m)\u001b[49m\n\u001b[0;32m    615\u001b[0m \u001b[38;5;28;01mexcept\u001b[39;00m MySQLInterfaceError \u001b[38;5;28;01mas\u001b[39;00m err:\n",
      "\u001b[1;31mMySQLInterfaceError\u001b[0m: You have an error in your SQL syntax; check the manual that corresponds to your MySQL server version for the right syntax to use near ''id', 'name', 'city') values(1, 'krupesh', 'ahmedabad')' at line 1",
      "\nThe above exception was the direct cause of the following exception:\n",
      "\u001b[1;31mProgrammingError\u001b[0m                          Traceback (most recent call last)",
      "Cell \u001b[1;32mIn[35], line 14\u001b[0m\n\u001b[0;32m     11\u001b[0m     vals \u001b[38;5;241m=\u001b[39m \u001b[38;5;28mtuple\u001b[39m(vals)\n\u001b[0;32m     13\u001b[0m     cmd \u001b[38;5;241m=\u001b[39m \u001b[38;5;124mf\u001b[39m\u001b[38;5;124m'''\u001b[39m\u001b[38;5;124minsert into users\u001b[39m\u001b[38;5;132;01m{\u001b[39;00mkeys\u001b[38;5;132;01m}\u001b[39;00m\u001b[38;5;124m values\u001b[39m\u001b[38;5;132;01m{\u001b[39;00mvals\u001b[38;5;132;01m}\u001b[39;00m\u001b[38;5;124m;\u001b[39m\u001b[38;5;124m'''\u001b[39m\n\u001b[1;32m---> 14\u001b[0m     \u001b[43mcur\u001b[49m\u001b[38;5;241;43m.\u001b[39;49m\u001b[43mexecute\u001b[49m\u001b[43m(\u001b[49m\u001b[43mcmd\u001b[49m\u001b[43m)\u001b[49m\n\u001b[0;32m     15\u001b[0m \u001b[38;5;28;01melse\u001b[39;00m:\n\u001b[0;32m     16\u001b[0m     db\u001b[38;5;241m.\u001b[39mcommit()\n",
      "File \u001b[1;32m~\\AppData\\Local\\Programs\\Python\\Python311\\Lib\\site-packages\\mysql\\connector\\cursor_cext.py:330\u001b[0m, in \u001b[0;36mCMySQLCursor.execute\u001b[1;34m(self, operation, params, multi)\u001b[0m\n\u001b[0;32m    325\u001b[0m             \u001b[38;5;28;01mraise\u001b[39;00m ProgrammingError(\n\u001b[0;32m    326\u001b[0m                 \u001b[38;5;124m\"\u001b[39m\u001b[38;5;124mNot all parameters were used in the SQL statement\u001b[39m\u001b[38;5;124m\"\u001b[39m\n\u001b[0;32m    327\u001b[0m             )\n\u001b[0;32m    329\u001b[0m \u001b[38;5;28;01mtry\u001b[39;00m:\n\u001b[1;32m--> 330\u001b[0m     result \u001b[38;5;241m=\u001b[39m \u001b[38;5;28;43mself\u001b[39;49m\u001b[38;5;241;43m.\u001b[39;49m\u001b[43m_cnx\u001b[49m\u001b[38;5;241;43m.\u001b[39;49m\u001b[43mcmd_query\u001b[49m\u001b[43m(\u001b[49m\n\u001b[0;32m    331\u001b[0m \u001b[43m        \u001b[49m\u001b[43mstmt\u001b[49m\u001b[43m,\u001b[49m\n\u001b[0;32m    332\u001b[0m \u001b[43m        \u001b[49m\u001b[43mraw\u001b[49m\u001b[38;5;241;43m=\u001b[39;49m\u001b[38;5;28;43mself\u001b[39;49m\u001b[38;5;241;43m.\u001b[39;49m\u001b[43m_raw\u001b[49m\u001b[43m,\u001b[49m\n\u001b[0;32m    333\u001b[0m \u001b[43m        \u001b[49m\u001b[43mbuffered\u001b[49m\u001b[38;5;241;43m=\u001b[39;49m\u001b[38;5;28;43mself\u001b[39;49m\u001b[38;5;241;43m.\u001b[39;49m\u001b[43m_buffered\u001b[49m\u001b[43m,\u001b[49m\n\u001b[0;32m    334\u001b[0m \u001b[43m        \u001b[49m\u001b[43mraw_as_string\u001b[49m\u001b[38;5;241;43m=\u001b[39;49m\u001b[38;5;28;43mself\u001b[39;49m\u001b[38;5;241;43m.\u001b[39;49m\u001b[43m_raw_as_string\u001b[49m\u001b[43m,\u001b[49m\n\u001b[0;32m    335\u001b[0m \u001b[43m    \u001b[49m\u001b[43m)\u001b[49m\n\u001b[0;32m    336\u001b[0m \u001b[38;5;28;01mexcept\u001b[39;00m MySQLInterfaceError \u001b[38;5;28;01mas\u001b[39;00m err:\n\u001b[0;32m    337\u001b[0m     \u001b[38;5;28;01mraise\u001b[39;00m get_mysql_exception(\n\u001b[0;32m    338\u001b[0m         msg\u001b[38;5;241m=\u001b[39merr\u001b[38;5;241m.\u001b[39mmsg, errno\u001b[38;5;241m=\u001b[39merr\u001b[38;5;241m.\u001b[39merrno, sqlstate\u001b[38;5;241m=\u001b[39merr\u001b[38;5;241m.\u001b[39msqlstate\n\u001b[0;32m    339\u001b[0m     ) \u001b[38;5;28;01mfrom\u001b[39;00m \u001b[38;5;21;01merr\u001b[39;00m\n",
      "File \u001b[1;32m~\\AppData\\Local\\Programs\\Python\\Python311\\Lib\\site-packages\\mysql\\connector\\connection_cext.py:616\u001b[0m, in \u001b[0;36mCMySQLConnection.cmd_query\u001b[1;34m(self, query, raw, buffered, raw_as_string)\u001b[0m\n\u001b[0;32m    608\u001b[0m     \u001b[38;5;28mself\u001b[39m\u001b[38;5;241m.\u001b[39m_cmysql\u001b[38;5;241m.\u001b[39mquery(\n\u001b[0;32m    609\u001b[0m         query,\n\u001b[0;32m    610\u001b[0m         raw\u001b[38;5;241m=\u001b[39mraw,\n\u001b[1;32m   (...)\u001b[0m\n\u001b[0;32m    613\u001b[0m         query_attrs\u001b[38;5;241m=\u001b[39m\u001b[38;5;28mself\u001b[39m\u001b[38;5;241m.\u001b[39m_query_attrs,\n\u001b[0;32m    614\u001b[0m     )\n\u001b[0;32m    615\u001b[0m \u001b[38;5;28;01mexcept\u001b[39;00m MySQLInterfaceError \u001b[38;5;28;01mas\u001b[39;00m err:\n\u001b[1;32m--> 616\u001b[0m     \u001b[38;5;28;01mraise\u001b[39;00m get_mysql_exception(\n\u001b[0;32m    617\u001b[0m         err\u001b[38;5;241m.\u001b[39merrno, msg\u001b[38;5;241m=\u001b[39merr\u001b[38;5;241m.\u001b[39mmsg, sqlstate\u001b[38;5;241m=\u001b[39merr\u001b[38;5;241m.\u001b[39msqlstate\n\u001b[0;32m    618\u001b[0m     ) \u001b[38;5;28;01mfrom\u001b[39;00m \u001b[38;5;21;01merr\u001b[39;00m\n\u001b[0;32m    619\u001b[0m \u001b[38;5;28;01mexcept\u001b[39;00m \u001b[38;5;167;01mAttributeError\u001b[39;00m \u001b[38;5;28;01mas\u001b[39;00m err:\n\u001b[0;32m    620\u001b[0m     addr \u001b[38;5;241m=\u001b[39m (\n\u001b[0;32m    621\u001b[0m         \u001b[38;5;28mself\u001b[39m\u001b[38;5;241m.\u001b[39m_unix_socket \u001b[38;5;28;01mif\u001b[39;00m \u001b[38;5;28mself\u001b[39m\u001b[38;5;241m.\u001b[39m_unix_socket \u001b[38;5;28;01melse\u001b[39;00m \u001b[38;5;124mf\u001b[39m\u001b[38;5;124m\"\u001b[39m\u001b[38;5;132;01m{\u001b[39;00m\u001b[38;5;28mself\u001b[39m\u001b[38;5;241m.\u001b[39m_host\u001b[38;5;132;01m}\u001b[39;00m\u001b[38;5;124m:\u001b[39m\u001b[38;5;132;01m{\u001b[39;00m\u001b[38;5;28mself\u001b[39m\u001b[38;5;241m.\u001b[39m_port\u001b[38;5;132;01m}\u001b[39;00m\u001b[38;5;124m\"\u001b[39m\n\u001b[0;32m    622\u001b[0m     )\n",
      "\u001b[1;31mProgrammingError\u001b[0m: 1064 (42000): You have an error in your SQL syntax; check the manual that corresponds to your MySQL server version for the right syntax to use near ''id', 'name', 'city') values(1, 'krupesh', 'ahmedabad')' at line 1"
     ]
    }
   ],
   "source": [
    "n = 0\n",
    "for d in data:\n",
    "    n+=1\n",
    "    \n",
    "    keys = list(d.keys())\n",
    "    keys.insert(0, 'id')\n",
    "    keys = tuple(keys)\n",
    "    \n",
    "    vals = list(d.values())\n",
    "    vals.insert(0, n)\n",
    "    vals = tuple(vals)\n",
    "    \n",
    "    cmd = f'''insert into users{keys} values{vals};'''\n",
    "    cur.execute(cmd)\n",
    "else:\n",
    "    db.commit()"
   ]
  },
  {
   "cell_type": "code",
   "execution_count": 41,
   "metadata": {},
   "outputs": [
    {
     "name": "stdout",
     "output_type": "stream",
     "text": [
      "insert into tbl_name(id, name, city, ) values(1, 'krupesh', 'ahmedabad');\n",
      "insert into tbl_name(id, name, city, ) values(2, 'mittul', 'ahmedabad');\n",
      "insert into tbl_name(id, name, city, ) values(3, 'kapil', 'ajmer');\n"
     ]
    }
   ],
   "source": [
    "n = 0\n",
    "for d in data:\n",
    "    n+=1\n",
    "    \n",
    "    keys = list(d.keys())\n",
    "    keys.insert(0, '''id''')\n",
    "    s = ''\n",
    "    for i in keys:\n",
    "        s += f\"{i}, \"\n",
    "        \n",
    "#     keys = tuple(keys)\n",
    "    \n",
    "    vals = list(d.values())\n",
    "    vals.insert(0, n)\n",
    "    vals = tuple(vals)\n",
    "    \n",
    "    cmd = f'''insert into tbl_name({s}) values{vals};'''\n",
    "    print(cmd)"
   ]
  },
  {
   "cell_type": "code",
   "execution_count": 42,
   "metadata": {},
   "outputs": [
    {
     "name": "stdout",
     "output_type": "stream",
     "text": [
      "insert into users(id,name,city,) values(1, 'krupesh', 'ahmedabad');\n"
     ]
    },
    {
     "ename": "ProgrammingError",
     "evalue": "1064 (42000): You have an error in your SQL syntax; check the manual that corresponds to your MySQL server version for the right syntax to use near ') values(1, 'krupesh', 'ahmedabad')' at line 1",
     "output_type": "error",
     "traceback": [
      "\u001b[1;31m---------------------------------------------------------------------------\u001b[0m",
      "\u001b[1;31mMySQLInterfaceError\u001b[0m                       Traceback (most recent call last)",
      "File \u001b[1;32m~\\AppData\\Local\\Programs\\Python\\Python311\\Lib\\site-packages\\mysql\\connector\\connection_cext.py:608\u001b[0m, in \u001b[0;36mCMySQLConnection.cmd_query\u001b[1;34m(self, query, raw, buffered, raw_as_string)\u001b[0m\n\u001b[0;32m    607\u001b[0m         query \u001b[38;5;241m=\u001b[39m query\u001b[38;5;241m.\u001b[39mencode(\u001b[38;5;124m\"\u001b[39m\u001b[38;5;124mutf-8\u001b[39m\u001b[38;5;124m\"\u001b[39m)\n\u001b[1;32m--> 608\u001b[0m     \u001b[38;5;28;43mself\u001b[39;49m\u001b[38;5;241;43m.\u001b[39;49m\u001b[43m_cmysql\u001b[49m\u001b[38;5;241;43m.\u001b[39;49m\u001b[43mquery\u001b[49m\u001b[43m(\u001b[49m\n\u001b[0;32m    609\u001b[0m \u001b[43m        \u001b[49m\u001b[43mquery\u001b[49m\u001b[43m,\u001b[49m\n\u001b[0;32m    610\u001b[0m \u001b[43m        \u001b[49m\u001b[43mraw\u001b[49m\u001b[38;5;241;43m=\u001b[39;49m\u001b[43mraw\u001b[49m\u001b[43m,\u001b[49m\n\u001b[0;32m    611\u001b[0m \u001b[43m        \u001b[49m\u001b[43mbuffered\u001b[49m\u001b[38;5;241;43m=\u001b[39;49m\u001b[43mbuffered\u001b[49m\u001b[43m,\u001b[49m\n\u001b[0;32m    612\u001b[0m \u001b[43m        \u001b[49m\u001b[43mraw_as_string\u001b[49m\u001b[38;5;241;43m=\u001b[39;49m\u001b[43mraw_as_string\u001b[49m\u001b[43m,\u001b[49m\n\u001b[0;32m    613\u001b[0m \u001b[43m        \u001b[49m\u001b[43mquery_attrs\u001b[49m\u001b[38;5;241;43m=\u001b[39;49m\u001b[38;5;28;43mself\u001b[39;49m\u001b[38;5;241;43m.\u001b[39;49m\u001b[43m_query_attrs\u001b[49m\u001b[43m,\u001b[49m\n\u001b[0;32m    614\u001b[0m \u001b[43m    \u001b[49m\u001b[43m)\u001b[49m\n\u001b[0;32m    615\u001b[0m \u001b[38;5;28;01mexcept\u001b[39;00m MySQLInterfaceError \u001b[38;5;28;01mas\u001b[39;00m err:\n",
      "\u001b[1;31mMySQLInterfaceError\u001b[0m: You have an error in your SQL syntax; check the manual that corresponds to your MySQL server version for the right syntax to use near ') values(1, 'krupesh', 'ahmedabad')' at line 1",
      "\nThe above exception was the direct cause of the following exception:\n",
      "\u001b[1;31mProgrammingError\u001b[0m                          Traceback (most recent call last)",
      "Cell \u001b[1;32mIn[42], line 19\u001b[0m\n\u001b[0;32m     17\u001b[0m cmd \u001b[38;5;241m=\u001b[39m \u001b[38;5;124mf\u001b[39m\u001b[38;5;124m'''\u001b[39m\u001b[38;5;124minsert into users(\u001b[39m\u001b[38;5;132;01m{\u001b[39;00ms\u001b[38;5;132;01m}\u001b[39;00m\u001b[38;5;124m) values\u001b[39m\u001b[38;5;132;01m{\u001b[39;00mvals\u001b[38;5;132;01m}\u001b[39;00m\u001b[38;5;124m;\u001b[39m\u001b[38;5;124m'''\u001b[39m\n\u001b[0;32m     18\u001b[0m \u001b[38;5;28mprint\u001b[39m(cmd)\n\u001b[1;32m---> 19\u001b[0m \u001b[43mcur\u001b[49m\u001b[38;5;241;43m.\u001b[39;49m\u001b[43mexecute\u001b[49m\u001b[43m(\u001b[49m\u001b[43mcmd\u001b[49m\u001b[43m)\u001b[49m\n",
      "File \u001b[1;32m~\\AppData\\Local\\Programs\\Python\\Python311\\Lib\\site-packages\\mysql\\connector\\cursor_cext.py:330\u001b[0m, in \u001b[0;36mCMySQLCursor.execute\u001b[1;34m(self, operation, params, multi)\u001b[0m\n\u001b[0;32m    325\u001b[0m             \u001b[38;5;28;01mraise\u001b[39;00m ProgrammingError(\n\u001b[0;32m    326\u001b[0m                 \u001b[38;5;124m\"\u001b[39m\u001b[38;5;124mNot all parameters were used in the SQL statement\u001b[39m\u001b[38;5;124m\"\u001b[39m\n\u001b[0;32m    327\u001b[0m             )\n\u001b[0;32m    329\u001b[0m \u001b[38;5;28;01mtry\u001b[39;00m:\n\u001b[1;32m--> 330\u001b[0m     result \u001b[38;5;241m=\u001b[39m \u001b[38;5;28;43mself\u001b[39;49m\u001b[38;5;241;43m.\u001b[39;49m\u001b[43m_cnx\u001b[49m\u001b[38;5;241;43m.\u001b[39;49m\u001b[43mcmd_query\u001b[49m\u001b[43m(\u001b[49m\n\u001b[0;32m    331\u001b[0m \u001b[43m        \u001b[49m\u001b[43mstmt\u001b[49m\u001b[43m,\u001b[49m\n\u001b[0;32m    332\u001b[0m \u001b[43m        \u001b[49m\u001b[43mraw\u001b[49m\u001b[38;5;241;43m=\u001b[39;49m\u001b[38;5;28;43mself\u001b[39;49m\u001b[38;5;241;43m.\u001b[39;49m\u001b[43m_raw\u001b[49m\u001b[43m,\u001b[49m\n\u001b[0;32m    333\u001b[0m \u001b[43m        \u001b[49m\u001b[43mbuffered\u001b[49m\u001b[38;5;241;43m=\u001b[39;49m\u001b[38;5;28;43mself\u001b[39;49m\u001b[38;5;241;43m.\u001b[39;49m\u001b[43m_buffered\u001b[49m\u001b[43m,\u001b[49m\n\u001b[0;32m    334\u001b[0m \u001b[43m        \u001b[49m\u001b[43mraw_as_string\u001b[49m\u001b[38;5;241;43m=\u001b[39;49m\u001b[38;5;28;43mself\u001b[39;49m\u001b[38;5;241;43m.\u001b[39;49m\u001b[43m_raw_as_string\u001b[49m\u001b[43m,\u001b[49m\n\u001b[0;32m    335\u001b[0m \u001b[43m    \u001b[49m\u001b[43m)\u001b[49m\n\u001b[0;32m    336\u001b[0m \u001b[38;5;28;01mexcept\u001b[39;00m MySQLInterfaceError \u001b[38;5;28;01mas\u001b[39;00m err:\n\u001b[0;32m    337\u001b[0m     \u001b[38;5;28;01mraise\u001b[39;00m get_mysql_exception(\n\u001b[0;32m    338\u001b[0m         msg\u001b[38;5;241m=\u001b[39merr\u001b[38;5;241m.\u001b[39mmsg, errno\u001b[38;5;241m=\u001b[39merr\u001b[38;5;241m.\u001b[39merrno, sqlstate\u001b[38;5;241m=\u001b[39merr\u001b[38;5;241m.\u001b[39msqlstate\n\u001b[0;32m    339\u001b[0m     ) \u001b[38;5;28;01mfrom\u001b[39;00m \u001b[38;5;21;01merr\u001b[39;00m\n",
      "File \u001b[1;32m~\\AppData\\Local\\Programs\\Python\\Python311\\Lib\\site-packages\\mysql\\connector\\connection_cext.py:616\u001b[0m, in \u001b[0;36mCMySQLConnection.cmd_query\u001b[1;34m(self, query, raw, buffered, raw_as_string)\u001b[0m\n\u001b[0;32m    608\u001b[0m     \u001b[38;5;28mself\u001b[39m\u001b[38;5;241m.\u001b[39m_cmysql\u001b[38;5;241m.\u001b[39mquery(\n\u001b[0;32m    609\u001b[0m         query,\n\u001b[0;32m    610\u001b[0m         raw\u001b[38;5;241m=\u001b[39mraw,\n\u001b[1;32m   (...)\u001b[0m\n\u001b[0;32m    613\u001b[0m         query_attrs\u001b[38;5;241m=\u001b[39m\u001b[38;5;28mself\u001b[39m\u001b[38;5;241m.\u001b[39m_query_attrs,\n\u001b[0;32m    614\u001b[0m     )\n\u001b[0;32m    615\u001b[0m \u001b[38;5;28;01mexcept\u001b[39;00m MySQLInterfaceError \u001b[38;5;28;01mas\u001b[39;00m err:\n\u001b[1;32m--> 616\u001b[0m     \u001b[38;5;28;01mraise\u001b[39;00m get_mysql_exception(\n\u001b[0;32m    617\u001b[0m         err\u001b[38;5;241m.\u001b[39merrno, msg\u001b[38;5;241m=\u001b[39merr\u001b[38;5;241m.\u001b[39mmsg, sqlstate\u001b[38;5;241m=\u001b[39merr\u001b[38;5;241m.\u001b[39msqlstate\n\u001b[0;32m    618\u001b[0m     ) \u001b[38;5;28;01mfrom\u001b[39;00m \u001b[38;5;21;01merr\u001b[39;00m\n\u001b[0;32m    619\u001b[0m \u001b[38;5;28;01mexcept\u001b[39;00m \u001b[38;5;167;01mAttributeError\u001b[39;00m \u001b[38;5;28;01mas\u001b[39;00m err:\n\u001b[0;32m    620\u001b[0m     addr \u001b[38;5;241m=\u001b[39m (\n\u001b[0;32m    621\u001b[0m         \u001b[38;5;28mself\u001b[39m\u001b[38;5;241m.\u001b[39m_unix_socket \u001b[38;5;28;01mif\u001b[39;00m \u001b[38;5;28mself\u001b[39m\u001b[38;5;241m.\u001b[39m_unix_socket \u001b[38;5;28;01melse\u001b[39;00m \u001b[38;5;124mf\u001b[39m\u001b[38;5;124m\"\u001b[39m\u001b[38;5;132;01m{\u001b[39;00m\u001b[38;5;28mself\u001b[39m\u001b[38;5;241m.\u001b[39m_host\u001b[38;5;132;01m}\u001b[39;00m\u001b[38;5;124m:\u001b[39m\u001b[38;5;132;01m{\u001b[39;00m\u001b[38;5;28mself\u001b[39m\u001b[38;5;241m.\u001b[39m_port\u001b[38;5;132;01m}\u001b[39;00m\u001b[38;5;124m\"\u001b[39m\n\u001b[0;32m    622\u001b[0m     )\n",
      "\u001b[1;31mProgrammingError\u001b[0m: 1064 (42000): You have an error in your SQL syntax; check the manual that corresponds to your MySQL server version for the right syntax to use near ') values(1, 'krupesh', 'ahmedabad')' at line 1"
     ]
    }
   ],
   "source": [
    "n = 0\n",
    "for d in data:\n",
    "    n+=1\n",
    "    \n",
    "    keys = list(d.keys())\n",
    "    keys.insert(0, '''id''')\n",
    "    s = ''\n",
    "    for i in keys:\n",
    "        s += f\"{i},\"\n",
    "        \n",
    "#     keys = tuple(keys)\n",
    "    \n",
    "    vals = list(d.values())\n",
    "    vals.insert(0, n)\n",
    "    vals = tuple(vals)\n",
    "    \n",
    "    cmd = f'''insert into users({s}) values{vals};'''\n",
    "    print(cmd)\n",
    "    cur.execute(cmd)"
   ]
  },
  {
   "cell_type": "code",
   "execution_count": 43,
   "metadata": {},
   "outputs": [
    {
     "data": {
      "text/plain": [
       "'id,name,city,'"
      ]
     },
     "execution_count": 43,
     "metadata": {},
     "output_type": "execute_result"
    }
   ],
   "source": [
    "'id,name,city,'"
   ]
  },
  {
   "cell_type": "code",
   "execution_count": 44,
   "metadata": {},
   "outputs": [
    {
     "data": {
      "text/plain": [
       "'id,name,city'"
      ]
     },
     "execution_count": 44,
     "metadata": {},
     "output_type": "execute_result"
    }
   ],
   "source": [
    "'id,name,city,'[:-1]"
   ]
  },
  {
   "cell_type": "code",
   "execution_count": 46,
   "metadata": {},
   "outputs": [
    {
     "name": "stdout",
     "output_type": "stream",
     "text": [
      "insert into users(id,name,city) values(1, 'krupesh', 'ahmedabad');\n",
      "insert into users(id,name,city) values(2, 'mittul', 'ahmedabad');\n",
      "insert into users(id,name,city) values(3, 'kapil', 'ajmer');\n"
     ]
    }
   ],
   "source": [
    "n = 0\n",
    "for d in data:\n",
    "    n+=1\n",
    "    \n",
    "    keys = list(d.keys())\n",
    "    keys.insert(0, '''id''')\n",
    "    s = ''\n",
    "    for i in keys:\n",
    "        s += f\"{i},\"\n",
    "        \n",
    "#     keys = tuple(keys)\n",
    "    \n",
    "    vals = list(d.values())\n",
    "    vals.insert(0, n)\n",
    "    vals = tuple(vals)\n",
    "    \n",
    "    cmd = f'''insert into users({s[:-1]}) values{vals};'''\n",
    "    print(cmd)\n",
    "    cur.execute(cmd)"
   ]
  },
  {
   "cell_type": "code",
   "execution_count": 47,
   "metadata": {},
   "outputs": [],
   "source": [
    "cur.execute('select * from users;')"
   ]
  },
  {
   "cell_type": "code",
   "execution_count": 48,
   "metadata": {},
   "outputs": [
    {
     "data": {
      "text/plain": [
       "[(1, 'krupesh', 'ahmedabad'),\n",
       " (2, 'mittul', 'ahmedabad'),\n",
       " (3, 'kapil', 'ajmer')]"
      ]
     },
     "execution_count": 48,
     "metadata": {},
     "output_type": "execute_result"
    }
   ],
   "source": [
    "cur.fetchall()"
   ]
  },
  {
   "cell_type": "code",
   "execution_count": 49,
   "metadata": {},
   "outputs": [
    {
     "name": "stdout",
     "output_type": "stream",
     "text": [
      "insert into users(id,name,city) values(1, 'krupesh', 'ahmedabad');\n",
      "insert into users(id,name,city) values(2, 'mittul', 'ahmedabad');\n",
      "insert into users(id,name,city) values(3, 'kapil', 'ajmer');\n"
     ]
    }
   ],
   "source": [
    "n = 0\n",
    "for d in data:\n",
    "    n+=1\n",
    "    \n",
    "    keys = list(d.keys())\n",
    "    keys.insert(0, '''id''')\n",
    "    s = ''\n",
    "    for i in keys:\n",
    "        s += f\"{i},\"\n",
    "        \n",
    "#     keys = tuple(keys)\n",
    "    \n",
    "    vals = list(d.values())\n",
    "    vals.insert(0, n)\n",
    "    vals = tuple(vals)\n",
    "    \n",
    "    cmd = f'''insert into users({s[:-1]}) values{vals};'''\n",
    "    print(cmd)\n",
    "    cur.execute(cmd)\n",
    "else:\n",
    "    db.commit()"
   ]
  },
  {
   "cell_type": "code",
   "execution_count": 51,
   "metadata": {},
   "outputs": [
    {
     "data": {
      "text/plain": [
       "\"hello, my name is 'kapil' \""
      ]
     },
     "execution_count": 51,
     "metadata": {},
     "output_type": "execute_result"
    }
   ],
   "source": [
    "'hello, my name is \\'kapil\\' '"
   ]
  },
  {
   "cell_type": "code",
   "execution_count": 52,
   "metadata": {},
   "outputs": [],
   "source": [
    "cur.execute('select * from users;')\n",
    "prev_data = cur.fetchall()\n",
    "n = 0\n",
    "if len(prev_data):\n",
    "    n += len(prev_data) + 1\n",
    "else:\n",
    "    n = 0\n"
   ]
  },
  {
   "cell_type": "code",
   "execution_count": 53,
   "metadata": {},
   "outputs": [
    {
     "data": {
      "text/plain": [
       "7"
      ]
     },
     "execution_count": 53,
     "metadata": {},
     "output_type": "execute_result"
    }
   ],
   "source": [
    "n"
   ]
  },
  {
   "cell_type": "code",
   "execution_count": 54,
   "metadata": {},
   "outputs": [],
   "source": [
    "cur.execute('delete from users where id = 3;')"
   ]
  },
  {
   "cell_type": "code",
   "execution_count": 55,
   "metadata": {},
   "outputs": [],
   "source": [
    "db.commit()"
   ]
  },
  {
   "cell_type": "code",
   "execution_count": 56,
   "metadata": {},
   "outputs": [
    {
     "name": "stdout",
     "output_type": "stream",
     "text": [
      "5\n"
     ]
    }
   ],
   "source": [
    "cur.execute('select * from users;')\n",
    "prev_data = cur.fetchall()\n",
    "n = 0\n",
    "if len(prev_data):\n",
    "    n += len(prev_data)\n",
    "\n",
    "print(n)"
   ]
  },
  {
   "cell_type": "code",
   "execution_count": 2,
   "metadata": {},
   "outputs": [],
   "source": [
    "# create function for creating a table\n",
    "\n",
    "\"create table tbl_name(fld_1 dtype, ..);\"\n",
    "\n",
    "# int - int\n",
    "# str - varchar (max_len)\n",
    "# float - decimal(0, 2)\n",
    "\n",
    "dtypes = {\n",
    "    'int': 'int',\n",
    "    'str': 'varchar({max_len})',\n",
    "}\n",
    "\n",
    "# def create_table(tbl_name, **fields)\n",
    "\n",
    "# calling: create_table('users', id='int', name='str:25')"
   ]
  },
  {
   "cell_type": "code",
   "execution_count": 4,
   "metadata": {},
   "outputs": [
    {
     "data": {
      "text/plain": [
       "'int'"
      ]
     },
     "execution_count": 4,
     "metadata": {},
     "output_type": "execute_result"
    }
   ],
   "source": [
    "dtypes['int']"
   ]
  },
  {
   "cell_type": "code",
   "execution_count": 5,
   "metadata": {},
   "outputs": [
    {
     "data": {
      "text/plain": [
       "'varchar({max_len})'"
      ]
     },
     "execution_count": 5,
     "metadata": {},
     "output_type": "execute_result"
    }
   ],
   "source": [
    "dtypes['str']"
   ]
  },
  {
   "cell_type": "code",
   "execution_count": 7,
   "metadata": {},
   "outputs": [
    {
     "data": {
      "text/plain": [
       "'varchar(25)'"
      ]
     },
     "execution_count": 7,
     "metadata": {},
     "output_type": "execute_result"
    }
   ],
   "source": [
    "dtypes['str'].format(max_len=25)"
   ]
  },
  {
   "cell_type": "code",
   "execution_count": 8,
   "metadata": {},
   "outputs": [],
   "source": [
    "fld_1 = 'int'\n",
    "fld_2 = 'str'"
   ]
  },
  {
   "cell_type": "code",
   "execution_count": 9,
   "metadata": {},
   "outputs": [
    {
     "name": "stdout",
     "output_type": "stream",
     "text": [
      "int\n"
     ]
    }
   ],
   "source": [
    "if fld_1 == 'int':\n",
    "    print(dtypes[fld_1])"
   ]
  },
  {
   "cell_type": "code",
   "execution_count": 10,
   "metadata": {},
   "outputs": [
    {
     "name": "stdout",
     "output_type": "stream",
     "text": [
      "enter field with type: id='int'\n"
     ]
    }
   ],
   "source": [
    "f_type = input('enter field with type: ')"
   ]
  },
  {
   "cell_type": "code",
   "execution_count": 11,
   "metadata": {},
   "outputs": [
    {
     "data": {
      "text/plain": [
       "\"id='int'\""
      ]
     },
     "execution_count": 11,
     "metadata": {},
     "output_type": "execute_result"
    }
   ],
   "source": [
    "f_type"
   ]
  },
  {
   "cell_type": "code",
   "execution_count": 14,
   "metadata": {},
   "outputs": [
    {
     "name": "stdout",
     "output_type": "stream",
     "text": [
      "enter field with type: name=str:25\n",
      "create users(str 25);\n"
     ]
    }
   ],
   "source": [
    "dtypes = {\n",
    "    'int': 'int',\n",
    "    'str': 'varchar({max_len})',\n",
    "}\n",
    "\n",
    "f_type = input('enter field with type: ')\n",
    "\n",
    "fld = f_type.split('=')[0]\n",
    "ftype = f_type.split('=')[1]\n",
    "\n",
    "if ':' in ftype:\n",
    "    f = ftype.split(':')[0]\n",
    "    t = ftype.split(':')[1]\n",
    "    cmd = f'create users({f} {t});'\n",
    "else:\n",
    "    ft = dtypes[ftype]\n",
    "    cmd = f'create users({fld} {ft});'\n",
    "\n",
    "print(cmd)"
   ]
  },
  {
   "cell_type": "code",
   "execution_count": 15,
   "metadata": {},
   "outputs": [
    {
     "name": "stdout",
     "output_type": "stream",
     "text": [
      "enter field with type: name=str:25\n",
      "create users(name varchar(25));\n"
     ]
    }
   ],
   "source": [
    "dtypes = {\n",
    "    'int': 'int',\n",
    "    'str': 'varchar({})',\n",
    "}\n",
    "\n",
    "f_type = input('enter field with type: ')\n",
    "\n",
    "fld = f_type.split('=')[0]\n",
    "ftype = f_type.split('=')[1]\n",
    "\n",
    "if ':' in ftype:\n",
    "    ft = ftype.split(':')[0]\n",
    "    mlen = ftype.split(':')[1]\n",
    "    \n",
    "    fld_with_dtype = dtypes[ft].format(mlen)\n",
    "    \n",
    "    cmd = f'create users({fld} {fld_with_dtype});'\n",
    "else:\n",
    "    ft = dtypes[ftype]\n",
    "    cmd = f'create users({fld} {ft});'\n",
    "\n",
    "print(cmd)"
   ]
  },
  {
   "cell_type": "code",
   "execution_count": 22,
   "metadata": {},
   "outputs": [
    {
     "name": "stdout",
     "output_type": "stream",
     "text": [
      "id int\n",
      "name {'str': 25}\n"
     ]
    }
   ],
   "source": [
    "def create_table(tbl_name, **fields):\n",
    "    dtypes = {\n",
    "        'int': 'int',\n",
    "        'str': 'varchar({})',\n",
    "    }\n",
    "    \n",
    "    for field,ftype in fields.items():\n",
    "        print(field, ftype)\n",
    "    \n",
    "    cmd = f'''create table {tbl_name}()'''\n",
    "\n",
    "create_table('users', id='int', name={'str': 25})"
   ]
  },
  {
   "cell_type": "code",
   "execution_count": 28,
   "metadata": {},
   "outputs": [
    {
     "name": "stdout",
     "output_type": "stream",
     "text": [
      "id int,name varchar(25),\n"
     ]
    }
   ],
   "source": [
    "def create_table(tbl_name, **fields):\n",
    "    dtypes = {\n",
    "        'int': 'int',\n",
    "        'str': 'varchar({})',\n",
    "    }\n",
    "    \n",
    "    flds = ''\n",
    "    \n",
    "    for field,ftype in fields.items():\n",
    "        if type(ftype) == dict:\n",
    "            ft = list(ftype.keys())[0]\n",
    "            ft_len = ftype[ft]\n",
    "            \n",
    "            ft = dtypes[ft].format(ft_len)\n",
    "            \n",
    "            flds += f\"{field} {ft},\"\n",
    "        else:\n",
    "            flds += f\"{field} {ftype},\"\n",
    "    \n",
    "    print(flds)\n",
    "    \n",
    "    cmd = f'''create table {tbl_name}()'''\n",
    "\n",
    "create_table('users', id='int', name={'str': 25})"
   ]
  },
  {
   "cell_type": "code",
   "execution_count": 30,
   "metadata": {},
   "outputs": [
    {
     "data": {
      "text/plain": [
       "True"
      ]
     },
     "execution_count": 30,
     "metadata": {},
     "output_type": "execute_result"
    }
   ],
   "source": [
    "type({'str': 25}) == dict"
   ]
  },
  {
   "cell_type": "code",
   "execution_count": 32,
   "metadata": {},
   "outputs": [
    {
     "name": "stdout",
     "output_type": "stream",
     "text": [
      "create table users(id int,name varchar(25))\n"
     ]
    }
   ],
   "source": [
    "def create_table(tbl_name, **fields):\n",
    "    dtypes = {\n",
    "        'int': 'int',\n",
    "        'str': 'varchar({})',\n",
    "    }\n",
    "    \n",
    "    flds = ''\n",
    "    \n",
    "    for field,ftype in fields.items():\n",
    "        if type(ftype) == dict:\n",
    "            ft = list(ftype.keys())[0]\n",
    "            ft_len = ftype[ft]\n",
    "            \n",
    "            ft = dtypes[ft].format(ft_len)\n",
    "            \n",
    "            flds += f\"{field} {ft},\"\n",
    "        else:\n",
    "            flds += f\"{field} {ftype},\"\n",
    "    \n",
    "    cmd = f'''create table {tbl_name}({flds[:-1]})'''\n",
    "    \n",
    "    print(cmd)\n",
    "\n",
    "create_table('users', id='int', name={'str': 25})"
   ]
  },
  {
   "cell_type": "code",
   "execution_count": 33,
   "metadata": {},
   "outputs": [
    {
     "name": "stdout",
     "output_type": "stream",
     "text": [
      "create table users(id int,name varchar(25),city varchar(50),age int)\n"
     ]
    }
   ],
   "source": [
    "create_table('users', id='int', name={'str': 25}, city={'str': 50}, age='int')"
   ]
  },
  {
   "cell_type": "code",
   "execution_count": 35,
   "metadata": {},
   "outputs": [],
   "source": [
    "import mysql.connector as sql\n",
    "db = sql.connect(host='localhost', user='root', password='admin')\n",
    "cur = db.cursor()"
   ]
  },
  {
   "cell_type": "code",
   "execution_count": 36,
   "metadata": {},
   "outputs": [],
   "source": [
    "def create_table(db_name, tbl_name, **fields):\n",
    "    dtypes = {\n",
    "        'int': 'int',\n",
    "        'str': 'varchar({})',\n",
    "    }\n",
    "    \n",
    "    flds = ''\n",
    "    \n",
    "    for field,ftype in fields.items():\n",
    "        if type(ftype) == dict:\n",
    "            ft = list(ftype.keys())[0]\n",
    "            ft_len = ftype[ft]\n",
    "            \n",
    "            ft = dtypes[ft].format(ft_len)\n",
    "            \n",
    "            flds += f\"{field} {ft},\"\n",
    "        else:\n",
    "            flds += f\"{field} {ftype},\"\n",
    "    \n",
    "    cmd = f'''create table {tbl_name}({flds[:-1]})'''\n",
    "    cur.execute(f'use {db_name}')\n",
    "    cur.execute(cmd)\n",
    "    db.commit()\n",
    "    \n",
    "    cur.execute('show tables;')\n",
    "    tbls = cur.fetchall()\n",
    "    print(tbls)"
   ]
  },
  {
   "cell_type": "code",
   "execution_count": 37,
   "metadata": {},
   "outputs": [
    {
     "name": "stdout",
     "output_type": "stream",
     "text": [
      "[('students',), ('users',)]\n"
     ]
    }
   ],
   "source": [
    "create_table('mypythondb', 'students', id='int', name={'str': 25}, city={'str': 50}, age='int')"
   ]
  },
  {
   "cell_type": "code",
   "execution_count": null,
   "metadata": {},
   "outputs": [],
   "source": []
  }
 ],
 "metadata": {
  "colab": {
   "authorship_tag": "ABX9TyPVb/6CcA5aIupQ+o64XAVK",
   "provenance": []
  },
  "kernelspec": {
   "display_name": "Python 3 (ipykernel)",
   "language": "python",
   "name": "python3"
  },
  "language_info": {
   "codemirror_mode": {
    "name": "ipython",
    "version": 3
   },
   "file_extension": ".py",
   "mimetype": "text/x-python",
   "name": "python",
   "nbconvert_exporter": "python",
   "pygments_lexer": "ipython3",
   "version": "3.11.2"
  }
 },
 "nbformat": 4,
 "nbformat_minor": 1
}
